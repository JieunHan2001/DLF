{
 "cells": [
  {
   "cell_type": "markdown",
   "id": "912af720",
   "metadata": {},
   "source": [
    "## 정리노트#6"
   ]
  },
  {
   "cell_type": "markdown",
   "id": "32ddb7c1",
   "metadata": {},
   "source": [
    "지금까지의 변수는 **스칼라**를 다뤘지만, 머신러닝 데이터로는 벡터나 행렬 등의 **텐서**가 주로 쓰인다."
   ]
  },
  {
   "cell_type": "code",
   "execution_count": 1,
   "id": "bf024a39",
   "metadata": {},
   "outputs": [
    {
     "name": "stdout",
     "output_type": "stream",
     "text": [
      "variable(0.8414709848078965)\n"
     ]
    }
   ],
   "source": [
    "# 스칼라\n",
    "import os\n",
    "import sys\n",
    "\n",
    "current_dir = os.getcwd()\n",
    "sys.path.append(current_dir)\n",
    "\n",
    "import numpy as np\n",
    "import dezero.functions as F\n",
    "from dezero import Variable\n",
    "\n",
    "x = Variable(np.array(1.0))\n",
    "y = F.sin(x)\n",
    "print(y)"
   ]
  },
  {
   "cell_type": "code",
   "execution_count": 2,
   "id": "b4da3e92",
   "metadata": {},
   "outputs": [
    {
     "name": "stdout",
     "output_type": "stream",
     "text": [
      "variable([[ 0.84147098  0.90929743  0.14112001]\n",
      "          [-0.7568025  -0.95892427 -0.2794155 ]])\n"
     ]
    }
   ],
   "source": [
    "# 텐서 \n",
    "x = Variable(np.array(([[1,2,3],[4,5,6]])))\n",
    "y = F.sin(x)\n",
    "print(y)"
   ]
  },
  {
   "cell_type": "markdown",
   "id": "bacb3b09",
   "metadata": {},
   "source": [
    "텐서는 위와 같이 sin함수가 원소 각각에 적용된다. 따라서 입력과 출력 텐서의 형상은 바뀌지 않는다. 지금까지의 Dezero 함수들은 원소별 계산이 가능하다."
   ]
  },
  {
   "cell_type": "markdown",
   "id": "c5c8af4a",
   "metadata": {},
   "source": [
    "지금까지의 역전파 구현은 **스칼라**를 대상으로 진행했지만, 텐서를 사용한 계산에 역전파를 적용할 수 없다.<br>\n",
    "하지만 코드는 문제없이 작용하는데, 그 이유는\n",
    "- 스칼라를 대상으로 역전파를 구현했고\n",
    "- 함수에 텐서를 건네면 텐서의 원소마다 '스칼라'로 계산한다.\n",
    "- 텐서별 원소의 '스칼라' 계산이 이루어지면 스칼라를 가정해 구현한 역전파는 '텐서'의 원소별 계산에서도 성립한다."
   ]
  },
  {
   "cell_type": "code",
   "execution_count": 3,
   "id": "4f2356be",
   "metadata": {},
   "outputs": [],
   "source": [
    "x = Variable(np.array([[1,2,3],[4,5,6]]))\n",
    "c = Variable(np.array([[10,20,30],[40,50,60]]))\n",
    "t = x + c \n",
    "y = F.sum(t) # 마지막 출력은 스칼라 "
   ]
  },
  {
   "cell_type": "code",
   "execution_count": 4,
   "id": "896b3f3b",
   "metadata": {},
   "outputs": [
    {
     "name": "stdout",
     "output_type": "stream",
     "text": [
      "variable(1)\n",
      "variable([[1 1 1]\n",
      "          [1 1 1]])\n",
      "variable([[1 1 1]\n",
      "          [1 1 1]])\n",
      "variable([[1 1 1]\n",
      "          [1 1 1]])\n"
     ]
    }
   ],
   "source": [
    "y.backward(retain_grad = True)\n",
    "print(y.grad)\n",
    "print(t.grad)\n",
    "print(x.grad)\n",
    "print(c.grad)"
   ]
  },
  {
   "cell_type": "markdown",
   "id": "a34d15f3",
   "metadata": {},
   "source": [
    "이때 기울기의 형상과 데이터(순전파 때의 데이터)의 형상이 일치한다.( 어떤 함수의 입력 변수(데이터)와 그 변수에 대한 기울기(미분값)가 같은 차원과 크기를 갖는다는 것을 의미) <br>\n",
    "역전파를 진행할 때, 출력값 y의 손실 함수로부터의 기울기를 dy라고 하면, 이 기울기를 이용하여 입력 x의 기울기 dx를 계산한다. 이때 dx는 x의 원래 형상 (m, n)을 그대로 유지합니다. 즉, 각 입력 변수 x의 각 원소에 대해, **해당 원소가 최종 출력 y에 얼마나 영향을 미쳤는지**를 나타내는 기울기가 계산된다.<br>\n",
    "기울기를 계산할 때 각 입력 변수의 영향을 정확하게 파악하고, 각 변수에 대한 손실 함수의 민감도를 적절히 업데이트하기 위해 필요하다.<br>\n",
    "<br>\n",
    "즉 x.shape == x.grad.shape이며 c.shape == c.grad.shape 이고 t.shape == t.grad.shape이다. 이 성질을 이용하여 원소별 계산이 아닌 함수를 구현할 수 있다."
   ]
  },
  {
   "cell_type": "markdown",
   "id": "0659b7b7",
   "metadata": {},
   "source": [
    "### 형상 변환 함수\n",
    "\n",
    "텐서의 형상을 변환하는 reshape함수와 행렬을 전치하는 transpose 함수는 모두 텐서의 형상을 바꾸는 함수이다."
   ]
  },
  {
   "cell_type": "markdown",
   "id": "41f301b4",
   "metadata": {},
   "source": [
    "+ \"계산을 원소별로 하지 않는다\"는 표현은 주로 대규모 데이터를 다룰 때 사용되는 개념으로, 개별 원소들에 대해 하나씩 연산을 수행하는 대신에, 여러 원소에 대한 연산을 동시에, 그리고 더 추상화된 형태로 수행하는 것을 말한다. 이는 주로 벡터화(vectorization), 행렬 연산, 혹은 텐서 연산 등을 통해 구현된다. 이러한 방식은 컴퓨터가 수행하기에 더 최적화되어 있고, 실행 시간을 대폭 줄여줄 수 있다."
   ]
  },
  {
   "cell_type": "markdown",
   "id": "df1ec64e",
   "metadata": {},
   "source": [
    "- 텐서 연산을 수행할 때, 입력 텐서들의 형상이 호환되어야 연산이 가능하다. 예를 들어, 행렬 곱셈에서는 첫 번째 행렬의 열 수와 두 번째 행렬의 행 수가 일치해야 한다. 또한, 원소별 연산(element-wise operation)을 수행할 때는 두 텐서의 형상이 완전히 동일하거나 브로드캐스팅 규칙에 따라 조정될 수 있어야 한다."
   ]
  },
  {
   "cell_type": "code",
   "execution_count": 5,
   "id": "fcd65f23",
   "metadata": {},
   "outputs": [
    {
     "name": "stdout",
     "output_type": "stream",
     "text": [
      "[1 2 3 4 5 6]\n"
     ]
    }
   ],
   "source": [
    "# reshape 함수 구현\n",
    "\n",
    "import numpy as np\n",
    "\n",
    "x = np.array([[1,2,3],[4,5,6]])\n",
    "y = np.reshape(x, (6,)) # x의 형상을 (2,3)에서 (6,)=6개의 요소를 가진 1차원 배열로 만들겠다는 의미\n",
    "print(y)"
   ]
  },
  {
   "cell_type": "markdown",
   "id": "5e4ab1be",
   "metadata": {},
   "source": [
    "reshape 함수는 단순히 형상만 변환하고 구체적인 계산은 아무것도 하지 않는다. 따라서 역전파는 출력 쪽에서 전해지는 기울기를 그대로 입력 쪽으로 흘려보내는데, 기울기의 형상이 입력의 형상과 같아지도록 변환해 준다."
   ]
  },
  {
   "cell_type": "markdown",
   "id": "06758b17",
   "metadata": {},
   "source": [
    "**functions 파일에 추가 - Reshape 클래스**\n",
    "```python\n",
    "class Reshape(Function):\n",
    "    def __init__(self, shape):\n",
    "        self.shape = shape\n",
    "    \n",
    "    def forward(self, x):\n",
    "        self.x_shape = x.shape  #입력 x의 원래 모양을 저장\n",
    "        y = x.reshape(self.shape)  #입력 x를 self.shape의 형태로 재배열\n",
    "        return y\n",
    "    \n",
    "    def backward(self, gy):\n",
    "        return reshape(gy, self.x_shape)  #기울기 gy를 원래 x의 모양으로 재배열\n",
    "    \n",
    "from dezero.core import as_variable\n",
    "\n",
    "def reshape(x, shape):\n",
    "    if x.shape == shape:\n",
    "        return as_variable(x)\n",
    "    return Reshape(shape)(x)\n",
    "```"
   ]
  },
  {
   "cell_type": "code",
   "execution_count": 7,
   "id": "d18f1770",
   "metadata": {},
   "outputs": [
    {
     "name": "stdout",
     "output_type": "stream",
     "text": [
      "variable([[1 1 1]\n",
      "          [1 1 1]])\n"
     ]
    }
   ],
   "source": [
    "import numpy as np\n",
    "import dezero.functions as F\n",
    "from dezero import Variable\n",
    "\n",
    "x = Variable(np.array([[1,2,3],[4,5,6]]))\n",
    "y = F.reshape(x, (6,))\n",
    "y.backward(retain_grad=True)\n",
    "print(x.grad)"
   ]
  },
  {
   "cell_type": "markdown",
   "id": "0ca93cc2",
   "metadata": {},
   "source": [
    "넘파이의 reshape 함수는 ndarray 인스턴스의 메서드로 사용할 수 있다. 또한 가변 인수도 받는다.<br>\n",
    "Variable 클래스에 <br>\n",
    "```python\n",
    "def reshape(self,*shape):\n",
    "    if len(shape) == 1 and isinstance(shape[0], (tuple,list)):\n",
    "        shape = shape[0]\n",
    "       return dezero.functions.reshape(self, shape)\n",
    "```\n",
    "가변 길이 인수를 받는 코드를 추가해 준다."
   ]
  },
  {
   "cell_type": "markdown",
   "id": "a4b28aca",
   "metadata": {},
   "source": [
    "### 행렬의 전치"
   ]
  },
  {
   "cell_type": "markdown",
   "id": "17b9abcb",
   "metadata": {},
   "source": [
    "이번 단계에서는 입력 변수가 행렬(2차원 텐서)일 때로 한정하여 구현한다."
   ]
  },
  {
   "cell_type": "code",
   "execution_count": 8,
   "id": "91948781",
   "metadata": {},
   "outputs": [
    {
     "name": "stdout",
     "output_type": "stream",
     "text": [
      "[[1 4]\n",
      " [2 5]\n",
      " [3 6]]\n"
     ]
    }
   ],
   "source": [
    "x = np.array([[1,2,3],[4,5,6]])\n",
    "y = np.transpose(x)\n",
    "print(y)"
   ]
  },
  {
   "cell_type": "markdown",
   "id": "a78aa07b",
   "metadata": {},
   "source": [
    "x의 형상이 (2,3)에서 (3,2)로 달라진다."
   ]
  },
  {
   "cell_type": "markdown",
   "id": "f2d34191",
   "metadata": {},
   "source": [
    "**transpose 함수를 구현**\n",
    "\n",
    "```python\n",
    "class Transpose(Function):\n",
    "    def forward(self,x):\n",
    "        y = np.transpose(x)\n",
    "        return y \n",
    "    \n",
    "    def backward(self,gy):\n",
    "        gx = transpose(gy)\n",
    "        return gx\n",
    "    \n",
    "def transpose(x):\n",
    "    return Transpose()(x)\n",
    "```"
   ]
  },
  {
   "cell_type": "code",
   "execution_count": 10,
   "id": "2c20d829",
   "metadata": {},
   "outputs": [
    {
     "name": "stdout",
     "output_type": "stream",
     "text": [
      "variable([[1 1 1]\n",
      "          [1 1 1]])\n"
     ]
    }
   ],
   "source": [
    "x = Variable(np.array([[1,2,3],[4,5,6]]))\n",
    "y = F.transpose(x)\n",
    "y.backward()\n",
    "print(x.grad)"
   ]
  },
  {
   "cell_type": "markdown",
   "id": "c99db6f8",
   "metadata": {},
   "source": [
    "넘파이의 reshape 함수는 ndarray 인스턴스의 메서드로 사용할 수 있다. 또한 가변 인수도 받는다.\n",
    "Variable 클래스에\n",
    "\n",
    "```python\n",
    "def transpose(self):\n",
    "    return dezero.functions.transpose(self)\n",
    "    \n",
    "    @property\n",
    "    def T(self):\n",
    "        return dezero.functions.transpose(self)\n",
    "```\n",
    "가변 길이 인수를 받는 코드를 추가해 준다."
   ]
  },
  {
   "cell_type": "markdown",
   "id": "b0475fd2",
   "metadata": {},
   "source": [
    "return dezero.functions.transpose(self)는 '인스턴스 메서드'로 이용하기 위한 코드이다.<br>\n",
    "두 번째 T에는 @property 데코레이터가 붙어 있는데, '인스턴스 변수'로 사용할 수 있게 해주는 데코레이터다. T라는 프로퍼티는 @property 데코레이터를 통해 transpose() 메서드의 결과를 속성처럼 쉽게 접근할 수 있게 해 주고, .T를 호출할 때마다 메서드를 호출하는 것처럼 작동하여 계산된 전치 행렬을 얻을 수 있다."
   ]
  },
  {
   "cell_type": "markdown",
   "id": "40d5c6c2",
   "metadata": {},
   "source": [
    "### 합계  함수\n",
    "sum 함수 역전파에서는 입력 변수의 형상과 같아지도록 기울기의 원소를 복사한다."
   ]
  },
  {
   "cell_type": "markdown",
   "id": "bdd0eff1",
   "metadata": {},
   "source": [
    "**functions.py 파일에 추가**\n",
    "```python\n",
    "class Sum(Function):\n",
    "    def forward(self, x):\n",
    "        self.x_shape = x.shape\n",
    "        y = x.sum()\n",
    "        return y\n",
    "    \n",
    "    def backward(self, gy):\n",
    "        gx = broadcast_to(gy, self.x_shape)\n",
    "        return gx\n",
    "    \n",
    "def sum(x):\n",
    "    return Sum(x)\n",
    "```"
   ]
  },
  {
   "cell_type": "code",
   "execution_count": 12,
   "id": "1014ac56",
   "metadata": {},
   "outputs": [
    {
     "name": "stdout",
     "output_type": "stream",
     "text": [
      "variable(21)\n",
      "variable([1 1 1 1 1 1])\n"
     ]
    }
   ],
   "source": [
    "import numpy as np\n",
    "from dezero import Variable\n",
    "import dezero.functions as F\n",
    "\n",
    "x = Variable(np.array([1,2,3,4,5,6]))\n",
    "y = F.sum(x)\n",
    "y.backward()\n",
    "\n",
    "print(y)\n",
    "print(x.grad)"
   ]
  },
  {
   "cell_type": "code",
   "execution_count": 13,
   "id": "5ac34562",
   "metadata": {
    "scrolled": true
   },
   "outputs": [
    {
     "name": "stdout",
     "output_type": "stream",
     "text": [
      "variable(21)\n",
      "variable([[1 1 1]\n",
      "          [1 1 1]])\n"
     ]
    }
   ],
   "source": [
    "x = Variable(np.array([[1,2,3],[4,5,6]]))\n",
    "y = F.sum(x)\n",
    "y.backward()\n",
    "\n",
    "print(y)\n",
    "print(x.grad)"
   ]
  },
  {
   "cell_type": "markdown",
   "id": "8620fe47",
   "metadata": {},
   "source": [
    "위 결과를 보면 2차원 배열을 입력했을 때 x.grad와 x가 같은 형상임을 알 수 있다."
   ]
  },
  {
   "cell_type": "markdown",
   "id": "69304dfa",
   "metadata": {},
   "source": [
    "넘파이의 np.sum 함수는 합계를 구할 때 **축**을 지정할 수 있다. "
   ]
  },
  {
   "cell_type": "code",
   "execution_count": 14,
   "id": "c018d234",
   "metadata": {},
   "outputs": [
    {
     "name": "stdout",
     "output_type": "stream",
     "text": [
      "[5 7 9]\n",
      "(2, 3) -> (3,)\n"
     ]
    }
   ],
   "source": [
    "x = np.array([[1,2,3],[4,5,6]])\n",
    "y = np.sum(x, axis=0)\n",
    "print(y)\n",
    "print(x.shape, '->', y.shape)"
   ]
  },
  {
   "cell_type": "markdown",
   "id": "00289b35",
   "metadata": {},
   "source": [
    "**functions.py 파일에 추가** <br>\n",
    "```python\n",
    "from dezero import utils\n",
    "\n",
    "class Sum(Function):\n",
    "    def __init__(self, axis, keepdims):\n",
    "        self.axis = axis\n",
    "        self.keepdims = keepdims # keepdims는 입력과 출력의 차원수를 똑같게 유지할지 정하는 플래그이다. \n",
    "        \n",
    "    def forward(self, x):\n",
    "        self.x_shape = x.shape\n",
    "        y = x.sum(axis=self.axis, keepdims=self.keepdims)\n",
    "        return y\n",
    "    \n",
    "    def backward(self, gy):\n",
    "        gy = utils.reshape_sum_backward(gy, self.x_shape, self.axis, self.keepdims)\n",
    "        gx = broadcast_to(gy, self.x_shape)\n",
    "        return gx\n",
    "    \n",
    "def sum(x, axis=None, keepdims=False):\n",
    "    return Sum(axis, keepdims)(x) \n",
    "```"
   ]
  },
  {
   "cell_type": "markdown",
   "id": "dbc8da83",
   "metadata": {},
   "source": [
    "Sum 클래스를 초기화할 때 axis와 keepdims를 입력받아 속성으로 설정한다."
   ]
  },
  {
   "cell_type": "markdown",
   "id": "95ecdfbf",
   "metadata": {},
   "source": [
    "utils.reshape_sum_backward 함수는 gy의 형상을 **미세하게 조정**한다."
   ]
  },
  {
   "cell_type": "code",
   "execution_count": 16,
   "id": "0d35933e",
   "metadata": {},
   "outputs": [
    {
     "name": "stdout",
     "output_type": "stream",
     "text": [
      "variable([5 7 9])\n",
      "variable([[1 1 1]\n",
      "          [1 1 1]])\n",
      "(1, 1, 1, 1)\n"
     ]
    }
   ],
   "source": [
    "x = Variable(np.array([[1,2,3],[4,5,6]]))\n",
    "y = F.sum(x, axis = 0)\n",
    "y.backward()\n",
    "print(y)\n",
    "print(x.grad)\n",
    "\n",
    "x = Variable(np.random.randn(2,3,4,5))\n",
    "y = x.sum(keepdims=True)\n",
    "print(y.shape)"
   ]
  },
  {
   "cell_type": "markdown",
   "id": "429ba106",
   "metadata": {},
   "source": [
    "### 브로드캐스트 함수\n",
    "\n",
    "넘파이의 np.broadcast_to(x, shape) 함수는 인스턴스 ndarray 인스턴스인 x의 원소를 복제하여 shape 인수로 지정한 형상이 되도록 해준다. "
   ]
  },
  {
   "cell_type": "code",
   "execution_count": 17,
   "id": "d6a6763a",
   "metadata": {},
   "outputs": [
    {
     "name": "stdout",
     "output_type": "stream",
     "text": [
      "[[1 2 3]\n",
      " [1 2 3]]\n"
     ]
    }
   ],
   "source": [
    "import numpy as np \n",
    "x = np.array([1,2,3])\n",
    "y = np.broadcast_to(x, (2,3))\n",
    "print(y)"
   ]
  },
  {
   "cell_type": "code",
   "execution_count": 18,
   "id": "8872225c",
   "metadata": {},
   "outputs": [
    {
     "name": "stdout",
     "output_type": "stream",
     "text": [
      "[[5 7 9]]\n",
      "[[ 6]\n",
      " [15]]\n"
     ]
    }
   ],
   "source": [
    "import numpy as np\n",
    "from dezero.utils import sum_to\n",
    "\n",
    "x = np.array([[1,2,3],[4,5,6]])\n",
    "y = sum_to(x, (1,3))\n",
    "print(y)\n",
    "\n",
    "y = sum_to(x, (2, 1))\n",
    "print(y)"
   ]
  },
  {
   "cell_type": "markdown",
   "id": "77196d86",
   "metadata": {},
   "source": [
    "sum_to(x, shape) 함수는 shape 형상이 되도록 합을 계산한다."
   ]
  },
  {
   "cell_type": "markdown",
   "id": "158b3e84",
   "metadata": {},
   "source": [
    "```python\n",
    "class BroadcastTo(Function):\n",
    "    def __init__(self, shape):\n",
    "        self.shape = shape\n",
    "        \n",
    "    def forward(self, x): # 입력 x의 현재 모양을 저장하고, np.broadcast_to 함수를 사용하여 입력 x를 목표 shape으로 브로드캐스팅\n",
    "        self.x_shape = x.shape\n",
    "        y = np.broadcast_to(x, self.shape)\n",
    "        return y\n",
    "        \n",
    "    def backward(self, gy): # 역전파 시, 입력된 그래디언트 gy를 원래 x의 모양인 self.x_shape으로 변환\n",
    "        gx = sum_to(gy, self.x_shape)\n",
    "        return gx\n",
    "\n",
    "def broadcast_to(x, shape):\n",
    "    if x.shape == shape: # x의 현재 모양이 이미 목표 shape와 동일하다면, 추가적인 처리 없이 x를 반환\n",
    "        return as_variable(x)\n",
    "    return BroadcastTo(shape)(x)\n",
    "```"
   ]
  },
  {
   "cell_type": "markdown",
   "id": "e7669c97",
   "metadata": {},
   "source": [
    "```python\n",
    "class SumTo(Function):\n",
    "    def __init__(self, shape):\n",
    "        self.shape = shape\n",
    "\n",
    "    def forward(self, x):\n",
    "        self.x_shape = x.shape\n",
    "        y = utils.sum_to(x, self.shape) # utils.sum_to 함수를 사용하여 데이터를 목표 shape로 축소\n",
    "        return y\n",
    "\n",
    "    def backward(self, gy):\n",
    "        gx = broadcast_to(gy, self.x_shape) # broadcast_to 함수를 사용하여 gy를 원래 입력 x의 모양으로 확장하고, 이 결과인 gx를 반환\n",
    "        return gx\n",
    "\n",
    "\n",
    "def sum_to(x, shape):\n",
    "    if x.shape == shape:\n",
    "        return as_variable(x)\n",
    "    return SumTo(shape)(x)\n",
    "```"
   ]
  },
  {
   "cell_type": "markdown",
   "id": "c7b46b75",
   "metadata": {},
   "source": [
    "위 코드처럼 broadcast함수와 sum_to 함수는 상호의존적이다."
   ]
  },
  {
   "cell_type": "markdown",
   "id": "05639479",
   "metadata": {},
   "source": [
    "순전파는 ndarray 인스턴스를 사용해 구현했기 때문에 브로드캐스트가 일어나지만 역전파에서는 브로드캐스트의 역전파가 일어나지 않는다.<br>\n",
    "넘파이 브로드캐스트는 broadcast_to 함수에서 이루어지고 broadcast_to 함수의 역전파는 sum_to 함수에 해당한다. <br>\n",
    "```python\n",
    "class Add(Function):\n",
    "    def forward(self, x0, x1):\n",
    "        # 입력 배열들의 형태를 인스턴스 변수 self.x0_shape와 self.x1_shape에 저장하여 역전파 때 사용\n",
    "        self.x0_shape, self.x1_shape = x0.shape, x1.shape\n",
    "        y = x0 + x1 # 서로 다른 모양의 배열이 주어지면, 작은 배열이 큰 배열의 형태에 맞추어 자동으로 확장되어 덧셈이 수행\n",
    "        return y\n",
    "\n",
    "    def backward(self, gy):\n",
    "        gx0, gx1 = gy, gy\n",
    "        # 두 입력 배열의 모양이 다른 경우, 즉 브로드캐스팅이 발생한 경우에는 각 입력 배열에 맞게 그라디언트의 모양을 조정\n",
    "        if self.x0_shape != self.x1_shape:  \n",
    "            gx0 = dezero.functions.sum_to(gx0, self.x0_shape) # gx0의 모양을 x0의 원래 모양으로 축소\n",
    "            gx1 = dezero.functions.sum_to(gx1, self.x1_shape) # gx1의 모양을 x1의 원래 모양으로 축소\n",
    "        return gx0, gx1\n",
    "```\n",
    "두 형상이 다를 때 브로드캐스트용 역전파를 계산할 수 있게 기울기 gx()는 x()의 형상이 되도록 합을 구하고, 마찬가지로 기울기 gx1은 x1의 형상이 되도록 합을 구한다."
   ]
  },
  {
   "cell_type": "code",
   "execution_count": 23,
   "id": "f710b149",
   "metadata": {},
   "outputs": [
    {
     "name": "stdout",
     "output_type": "stream",
     "text": [
      "variable([11 12 13])\n",
      "variable([3])\n"
     ]
    }
   ],
   "source": [
    "import numpy as np\n",
    "from dezero import Variable\n",
    "\n",
    "x0 = Variable(np.array([1, 2, 3]))\n",
    "x1 = Variable(np.array([10]))\n",
    "y = x0 + x1\n",
    "print(y)\n",
    "\n",
    "y.backward()\n",
    "print(x1.grad)"
   ]
  },
  {
   "cell_type": "markdown",
   "id": "f84cc066",
   "metadata": {},
   "source": [
    "### 백터의 내적과 행렬의 곱"
   ]
  },
  {
   "cell_type": "markdown",
   "id": "a85f74c7",
   "metadata": {},
   "source": [
    "백터의 내적은 백터 사이의 대응 원소의 곱을 모두 합한 값이고, 행렬의 곱은 왼쪽 행렬의 가로 방향 벡터와 오른쪽 행렬의 세로 방향 벡터 사이의 내적을 계산한다. 백터의 내적과 행렬의 곱 계산은 모두 np.dot 함수로 처리할 수 있다.<br>\n",
    "np.dot(x,y)의 두 인수가 모두 1차원 배열이면 백터의 내적을 계산하고, 인수가 2차원 배열이면 행렬의 곱을 계산한다."
   ]
  },
  {
   "cell_type": "markdown",
   "id": "cae94fc1",
   "metadata": {},
   "source": [
    "행렬과 벡터를 사용한 계산시 주의할 점<br>\n",
    "▪ 형상(shape)에 주의<br>\n",
    "▪ 행렬 a와 b의 대응하는 차원(축)의 원소 수가 일치해야 한다.<br>\n",
    "▪ 결과로 만들어진 행렬 c의 형상은 행렬 a와 같은 수의 행을, 행렬 b와 같은 수의 열을 갖는다."
   ]
  },
  {
   "cell_type": "markdown",
   "id": "92584ea0",
   "metadata": {},
   "source": [
    "```python\n",
    "class MatMul(Function):\n",
    "    def forward(self, x, W):\n",
    "        y = x.dot(W) #  x와 W의 행렬 곱을 계산. 이는 넘파이의 dot 함수를 사용하여 수행\n",
    "        return y\n",
    "\n",
    "    def backward(self, gy):\n",
    "        x, W = self.inputs\n",
    "        gx = matmul(gy, W.T) # gx는 gy와 W의 전치 행렬(W.T)과의 행렬 곱으로 계산. 입력 x에 대한 기울기다.\n",
    "        gW = matmul(x.T, gy) # x의 전치 행렬(x.T)과 gy의 행렬 곱으로 계산. 가중치 W에 대한 기울기다.\n",
    "        return gx, gW \n",
    "\n",
    "\n",
    "def matmul(x, W):\n",
    "    return MatMul()(x, W)\n",
    "```"
   ]
  },
  {
   "cell_type": "markdown",
   "id": "cacef131",
   "metadata": {},
   "source": [
    "위 함수를 사용하여 아래의 계산이 가능해진다."
   ]
  },
  {
   "cell_type": "code",
   "execution_count": 26,
   "id": "ce2ad1a8",
   "metadata": {},
   "outputs": [
    {
     "name": "stdout",
     "output_type": "stream",
     "text": [
      "(2, 3)\n",
      "(3, 4)\n"
     ]
    }
   ],
   "source": [
    "x = Variable(np.random.randn(2, 3))\n",
    "w = Variable(np.random.randn(3, 4))\n",
    "y = F.matmul(x, w)\n",
    "y.backward()\n",
    "\n",
    "print(x.grad.shape)\n",
    "print(w.grad.shape)"
   ]
  }
 ],
 "metadata": {
  "kernelspec": {
   "display_name": "Python 3 (ipykernel)",
   "language": "python",
   "name": "python3"
  },
  "language_info": {
   "codemirror_mode": {
    "name": "ipython",
    "version": 3
   },
   "file_extension": ".py",
   "mimetype": "text/x-python",
   "name": "python",
   "nbconvert_exporter": "python",
   "pygments_lexer": "ipython3",
   "version": "3.9.19"
  }
 },
 "nbformat": 4,
 "nbformat_minor": 5
}
