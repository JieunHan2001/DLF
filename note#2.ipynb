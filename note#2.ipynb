{
 "cells": [
  {
   "cell_type": "markdown",
   "id": "47c68702",
   "metadata": {},
   "source": [
    "## 정리노트 #2"
   ]
  },
  {
   "cell_type": "code",
   "execution_count": 83,
   "id": "8534b8d8",
   "metadata": {},
   "outputs": [],
   "source": [
    "'''단위 테스트 - 실제로 함수가 잘 동작하는지 확인하는 테스트 / 테스트 대상 단위의 크기를 작게 설정해서 단위 테스트를 최대한 간단하게 작성!'''\n",
    "''' +) 통합 테스트는 여러 모듈을 모아 개발된 의도대로 동작되는지 확인하는 테스트이다.'''\n",
    "\n",
    "import unittest #unittest를 import하고 \n",
    "\n",
    "class SquareTest(unittest.TestCase): #unittest.TestCase를 상속한 SquareTest 클래스를 구현\n",
    "    def test_forward(self):\n",
    "        x = Variable(np.array(2.0))\n",
    "        y = square(x)\n",
    "        expect = np.array(4.0) # 입력이 2.0일 때 출력이 4.0\n",
    "        self.assertEqual(y.data, expected) # 주어진 두 객체가 동일한지 여부를 판정\n"
   ]
  },
  {
   "cell_type": "markdown",
   "id": "513f2fa3",
   "metadata": {},
   "source": [
    "터미널에서 *python -m unittest 테스트 코드 파일 주소* 실행 -> -m unittest 인수를 제공하면 파이썬 파일을 테스트 모드로 실행 가능"
   ]
  },
  {
   "cell_type": "code",
   "execution_count": 84,
   "id": "279a526f",
   "metadata": {},
   "outputs": [],
   "source": [
    "'''square 함수의 역전파 테스트'''\n",
    "class SquareTest(unittest.TestCase): \n",
    "    def test_forward(self):\n",
    "        x = Variable(np.array(2.0))\n",
    "        y = square(x)\n",
    "        expect = np.array(4.0) \n",
    "        self.assertEqual(y.data, expected) \n",
    "    def test_backward(self):\n",
    "        x = Variable(np.array(3.0))\n",
    "        y = square(x)\n",
    "        y.backward() #미분값을 구함\n",
    "        expected = np.array(6.0)\n",
    "        self.assertEqual(x.grad, expected)"
   ]
  },
  {
   "cell_type": "code",
   "execution_count": 85,
   "id": "b1451b91",
   "metadata": {},
   "outputs": [],
   "source": [
    "'''기울기 확인을 이용한 자동 테스트'''\n",
    "# 수치 미분으로 구한 결과와 역전파로 구한 결과를 비교하여 그 차이가 크면 역전파 구현에 문제가 있다고 판단하는 검증 기법\n",
    "\n",
    "#수치 미분 구현 코드\n",
    "def numerical_diff(f,x,eps=1e-4): # eps는 미소한 변화량을 의미하며,x의 값을 조금씩 변화시키기 위해 사용\n",
    "    x0 = Variable(x.data - eps)\n",
    "    x1 = Variable(x.data + eps)\n",
    "    y0 = f(x0)\n",
    "    y1 = f(x1)\n",
    "    return (y1.data - y0.data) / (2*eps)\n",
    "\n",
    "class SquareTest(unittest.TestCase):\n",
    "    def test_forward(self):\n",
    "        x = Variable(np.array(2.0))\n",
    "        y = square(x)\n",
    "        expect = np.array(4.0) \n",
    "        self.assertEqual(y.data, expected) \n",
    "    def test_backward(self):\n",
    "        x = Variable(np.array(3.0))\n",
    "        y = square(x)\n",
    "        y.backward() \n",
    "        expected = np.array(6.0)\n",
    "        self.assertEqual(x.grad, expected)\n",
    "    # 기울기 확인\n",
    "    def test_gradiant_check(self):\n",
    "        x = Variable(np.random.rand(1)) # 무작위 입력값 생성\n",
    "        y = square(x)\n",
    "        y.backward()\n",
    "        num_grad = numerical_diff(square, x)\n",
    "        flg = np.allclose(x.grad, num_grad)\n",
    "        self.assertTrue(flg)"
   ]
  },
  {
   "cell_type": "markdown",
   "id": "69253fd2",
   "metadata": {},
   "source": [
    "두 메서드로 구한 값들이 일치하는지 확인하기 위해 np.allclose라는 넘파이 함수를 사용한다. \n",
    "np.allclose(a,b)는 ndarray 인스턴스인 a와 b의 값이 가까운지 판정한다.  "
   ]
  },
  {
   "cell_type": "code",
   "execution_count": 86,
   "id": "df245a55",
   "metadata": {},
   "outputs": [],
   "source": [
    "'''가변 길이 인수(순전파)'''\n",
    "\n",
    "'''원래의  Function 코드'''\n",
    "class Function:\n",
    "    def __call__(self, input):\n",
    "        x = input.data # Variable이라는 상자에서 실제 데이터를 꺼낸 다음\n",
    "        y = self.forward(x) #forward 메서드에서 구체적인 계산.\n",
    "        output = Variable(y) # 계산 결과를 Variable에 넣고 \n",
    "        output.set_creator(self) # 자신이 창조자라고 설정\n",
    "        self.input = input\n",
    "        self.output = output \n",
    "        return output\n",
    "    \n",
    "def forward(self, x):\n",
    "    raise NotImplementedError()\n",
    "    \n",
    "def backward(self, gy):\n",
    "    raise NotImplementedError()"
   ]
  },
  {
   "cell_type": "markdown",
   "id": "7485c836",
   "metadata": {},
   "source": [
    "가변 길이란 인수 또는 반환값의 수가 달라질 수 있다는 것을 말한다."
   ]
  },
  {
   "cell_type": "code",
   "execution_count": 87,
   "id": "71970490",
   "metadata": {},
   "outputs": [],
   "source": [
    "'''수정된  Function 코드'''\n",
    "\n",
    "class Function:\n",
    "    def __call__(self, inputs):\n",
    "        xs = [x.data for x in inputs] # 변수를 리스트에 담아 취급한다\n",
    "        ys = self.forward(xs) \n",
    "        outputs = [Variable(as_array(y)) for y in ys]\n",
    "        \n",
    "        for output in outputs:\n",
    "            output.set_creator(self)        \n",
    "        self.inputs = inputs\n",
    "        self.outputs = outputs \n",
    "        return outputs\n",
    "    \n",
    "def forward(self, xs):\n",
    "    raise NotImplementedError()\n",
    "    \n",
    "def backward(self, gys):\n",
    "    raise NotImplementedError()"
   ]
  },
  {
   "cell_type": "markdown",
   "id": "389cabe4",
   "metadata": {},
   "source": [
    "**<리스트 내포> = [표현식 for 항목 in 순회 가능 객체 if 조건]**\n",
    "\n",
    "순회 가능한 어떤 객체에서 새로운 리스트를 생성할 수 있으며, 필요한 경우 각 요소에 대해 특정 조건을 적용할 수도 있다.\n",
    "여기서 \"표현식\"은 새 리스트의 요소에 대한 계산이나 조작을 정의하며, \"조건\"은 해당 표현식이 적용될 요소를 필터링하는 데 사용된다.\n",
    "\n",
    "\n",
    "+) x0, x1 = xs \n",
    "\n",
    "파이썬의 **언패킹(unpacking) 기능**은 컬렉션(예: 리스트, 튜플, 딕셔너리 등)의 요소를 여러 변수에 한 번에 할당할 수 있게 해 준다."
   ]
  },
  {
   "cell_type": "code",
   "execution_count": 88,
   "id": "0f54f596",
   "metadata": {},
   "outputs": [],
   "source": [
    "'''덧셈을 해 주는 Add 클래스를 구현, 인수와 반환값이 리스트 또는 튜플이어야 한다'''\n",
    "\n",
    "class Add(Function):\n",
    "    def forward(self, xs):\n",
    "        x0, x1 = xs #언패킹\n",
    "        y = x0 + x1\n",
    "        return(y, ) #단일 요소를 포함하는 튜플을 반환"
   ]
  },
  {
   "cell_type": "markdown",
   "id": "0ab27847",
   "metadata": {},
   "source": [
    "위 코드의 개선점 : 입력시 변수를 리스트로 전달하도록 요청하고 반환값도 튜플로 전달하므로 사용 시 복잡함"
   ]
  },
  {
   "cell_type": "code",
   "execution_count": 89,
   "id": "6876b02f",
   "metadata": {},
   "outputs": [],
   "source": [
    "'''개선된  Function 코드'''\n",
    "\n",
    "class Function:\n",
    "    def __call__(self, *inputs): # *를 붙인다\n",
    "        xs = [x.data for x in inputs] \n",
    "        ys = self.forward(xs) \n",
    "        outputs = [Variable(as_array(y)) for y in ys]\n",
    "        \n",
    "        for output in outputs:\n",
    "            output.set_creator(self)        \n",
    "        self.inputs = inputs\n",
    "        self.outputs = outputs \n",
    "        return outputs\n",
    "        # 리스트의 원소가 하나라면 첫 번째 원소를 반환\n",
    "        return outputs if len(outputs) > 1 else outputs[0]\n",
    "    \n",
    "def forward(self, xs):\n",
    "    raise NotImplementedError()\n",
    "    \n",
    "def backward(self, gys):\n",
    "    raise NotImplementedError()"
   ]
  },
  {
   "cell_type": "markdown",
   "id": "d0a11021",
   "metadata": {},
   "source": [
    "함수를 정의할 때 인수에 *를 붙이면 호출할 때 넘긴 인수들을 *를 붙인 인수 하나로 모아서 받을 수 있다!"
   ]
  },
  {
   "cell_type": "code",
   "execution_count": 90,
   "id": "4d4cbeb2",
   "metadata": {},
   "outputs": [],
   "source": [
    "def as_array(x):\n",
    "    if np.isscalar(x):  \n",
    "        return np.array(x)  # 해당 경우 배열로 변환\n",
    "    return x"
   ]
  },
  {
   "cell_type": "code",
   "execution_count": 91,
   "id": "69850105",
   "metadata": {},
   "outputs": [],
   "source": [
    "'''입력과 결과를 반환할 때 변수를 직접 사용할 수 있도록 다시 개선된 코드'''\n",
    "\n",
    "class Function:\n",
    "    def __call__(self, *inputs): \n",
    "        xs = [x.data for x in inputs] \n",
    "        ys = self.forward(*xs) # *를 붙여 언팩 / 리스트의 원소를 낱개로 풀어 전달\n",
    "        if not isinstance(ys, tuple): # 튜플이 아닐 경우 튜플로 변경한다.\n",
    "            ys = (ys,)\n",
    "        outputs = [Variable(as_array(y)) for y in ys]\n",
    "        \n",
    "        for output in outputs:\n",
    "            output.set_creator(self)        \n",
    "        self.inputs = inputs\n",
    "        self.outputs = outputs \n",
    "    \n",
    "        # 리스트의 원소가 하나라면 첫 번째 원소를 반환\n",
    "        return outputs if len(outputs) > 1 else outputs[0]\n",
    "\n",
    "class Add(Function):\n",
    "    def forward(self, x0, x1):\n",
    "        y = x0 + x1 \n",
    "        return y"
   ]
  },
  {
   "cell_type": "markdown",
   "id": "a41215b9",
   "metadata": {},
   "source": [
    "원래 ADD 클래스는 x0, x1 = xs처럼 언패킹을 해 주고 y = x0 + x1 계산을 해야 했었는데, 개선된 코드는 함수를 호출할 때 *를 붙여 리스트 언팩을 했으므로 변수를 직접 받을 수 있다. 또 튜플이 아닐 경우 튜플로 변경되므로 return(y, )가 아니라 return y로 원소 하나만 반환하는 \n",
    "코드 개선이 가능하다."
   ]
  },
  {
   "cell_type": "code",
   "execution_count": 92,
   "id": "143bdcfd",
   "metadata": {},
   "outputs": [],
   "source": [
    "# ADD 클래스를 파이썬 함수로 사용할 수 있는 코드 추가\n",
    "def add(x0, x1):\n",
    "    return Add()(x0, x1)"
   ]
  },
  {
   "cell_type": "code",
   "execution_count": 93,
   "id": "dc29c59f",
   "metadata": {},
   "outputs": [],
   "source": [
    "# 실행을 위해 note#1에 구현한 Variable 클래스 코드를 가져옴 \n",
    "import numpy as np\n",
    "\n",
    "class Variable:\n",
    "    def __init__(self,data):\n",
    "        self.data = data\n",
    "        self.grad = None\n",
    "        self.creator = None\n",
    "        \n",
    "    def set_creator(self, func):\n",
    "        self.creator = func\n",
    "        \n",
    "    def backward(self):\n",
    "        if self.grad is None:\n",
    "            self.grad = np.ones_like(self.data) #np.ones_like(self.data)는 self.data와 형상과 타입이 같은 ndarray인스턴스 생성.\n",
    "                                                #모든 요소를 1로 채워서 돌려줌\n",
    "            \n",
    "        funcs = [self.creator] \n",
    "        while funcs:\n",
    "            f = funcs.pop()\n",
    "            x, y = f.input, f.output \n",
    "            x.grad = f.backward(y.grad)\n",
    "            \n",
    "            if x.creator is not None:\n",
    "                funcs.append(x.creator)"
   ]
  },
  {
   "cell_type": "code",
   "execution_count": 94,
   "id": "6002c13d",
   "metadata": {},
   "outputs": [
    {
     "name": "stdout",
     "output_type": "stream",
     "text": [
      "5\n"
     ]
    }
   ],
   "source": [
    "# add()를 이용하여 계산 코드를 작성\n",
    "\n",
    "x0 = Variable(np.array(2))\n",
    "x1 = Variable(np.array(3))\n",
    "y = add(x0, x1) # Add 클래스 생성 과정이 감춰짐 / 개선 전에는 f = Add()가 필요!\n",
    "print(y.data)"
   ]
  },
  {
   "cell_type": "code",
   "execution_count": 95,
   "id": "5240cacd",
   "metadata": {},
   "outputs": [],
   "source": [
    "'''가변 길이 인수(역전파)'''\n",
    "\n",
    "class Add(Function):\n",
    "    def forward(self, x0, x1):\n",
    "        y = x0 + x1\n",
    "        return y\n",
    "    \n",
    "    def backward(self,gy): # 입력이 1개\n",
    "        return gy, gy # 출력이 2개"
   ]
  },
  {
   "cell_type": "markdown",
   "id": "486023aa",
   "metadata": {},
   "source": [
    "덧셈의 역전파는 출력 쪽에서 전해지는 미분값에 1을 곱한 값이 입력 변수(x0, x1)의 미분이다. "
   ]
  },
  {
   "cell_type": "code",
   "execution_count": 96,
   "id": "b75616ed",
   "metadata": {},
   "outputs": [],
   "source": [
    "'''Variable 클래스 수정'''\n",
    "class Variable:\n",
    "    def __init__(self,data):\n",
    "        self.data = data\n",
    "        self.grad = None\n",
    "        self.creator = None\n",
    "        \n",
    "    def set_creator(self, func):\n",
    "        self.creator = func\n",
    "        \n",
    "    def backward(self):\n",
    "        if self.grad is None:\n",
    "            self.grad = np.ones_like(self.data) \n",
    "                                                       \n",
    "        funcs = [self.creator] # funcs 리스트에 함수를 추가함으로써 역전파가 진행될 경로를 설정하는 것이다!\n",
    "        while funcs: # funcs 리스트(스택)에 처리할 함수가 남아있는 동안, 반복문을 실행\n",
    "            f = funcs.pop() #  마지막 함수를 꺼내서 f에 저장\n",
    "            gys = [output.grad for output in f.outputs] # 출력 변수인 outputs에 담겨 있는 미분값들을 리스트에 담는다\n",
    "            gxs = f.backward(*gys) # 함수 f의 역전파를 호출한다 + 리스트 언팩을 통해 리스트를 풀어준다\n",
    "            if not isinstance (gxs, tuple): # gxs가 튜플이 아니라면 튜플로 변환\n",
    "                gxs = (gxs,)\n",
    "                \n",
    "            for x, gx in zip(f.inputs, gxs): # 역전파로 전파되는 미분값을 grad에 저장\n",
    "                x.grad = gx\n",
    "                \n",
    "                if x.creator is not None:\n",
    "                    funcs.append(x.creator)\n"
   ]
  },
  {
   "cell_type": "markdown",
   "id": "d0877a89",
   "metadata": {},
   "source": [
    "zip 함수는 zip(리스트1, 리스트2) 를 한개로 처리하여 리스트의1 의 요소A, 리스트2의 요소 B를 반환\n",
    "\n",
    "다변수 함수들을 행렬로 바꿔서 값을 하나씩 미분하고 가중치를 업데이트 한 뒤 zip()으로 묶어줌"
   ]
  },
  {
   "cell_type": "code",
   "execution_count": 97,
   "id": "9e6709a8",
   "metadata": {},
   "outputs": [],
   "source": [
    "'''Square 클래스 수정'''\n",
    "\n",
    "class Square(Function):\n",
    "    def forward(self,x):\n",
    "        y = x ** 2\n",
    "        return y\n",
    "    \n",
    "    def backward(self, gy):\n",
    "        x = self.inputs[0].data # 변수 이름이 단수인 input에서 복수인 inputs으로 바뀜\n",
    "        gx = 2 * x * gy\n",
    "        return gx "
   ]
  },
  {
   "cell_type": "code",
   "execution_count": 98,
   "id": "2ff01402",
   "metadata": {},
   "outputs": [],
   "source": [
    "# 실행을 위해 note#1에 구현한 코드를 가져옴\n",
    "'''파이썬 함수로 이용하기'''\n",
    "def square(x):\n",
    "    f = Square()\n",
    "    return f(x)\n",
    "\n",
    "def exp(x):\n",
    "    f = Exp()\n",
    "    return f(x)"
   ]
  },
  {
   "cell_type": "code",
   "execution_count": 99,
   "id": "1af367fb",
   "metadata": {},
   "outputs": [
    {
     "name": "stdout",
     "output_type": "stream",
     "text": [
      "13.0\n",
      "4.0\n",
      "6.0\n"
     ]
    }
   ],
   "source": [
    "x = Variable(np.array(2.0))\n",
    "y = Variable(np.array(3.0))\n",
    "z = add(square(x), square(y))\n",
    "\n",
    "z.backward()\n",
    "print(z.data)\n",
    "print(x.grad)\n",
    "print(y.grad)"
   ]
  },
  {
   "cell_type": "code",
   "execution_count": 100,
   "id": "eb0d62d2",
   "metadata": {},
   "outputs": [
    {
     "name": "stdout",
     "output_type": "stream",
     "text": [
      "y 6.0\n",
      "x.grad 1.0\n"
     ]
    }
   ],
   "source": [
    "'''같은 변수 사용 시 발생되는 문제점을 해결하기 위해 처음 이후 부터 전달된 미분값을 더해주도록 수정해야 함'''\n",
    "\n",
    "x = Variable(np.array(3.0))\n",
    "y = add(x,x)\n",
    "print('y', y.data)\n",
    "\n",
    "y.backward()\n",
    "print('x.grad', x.grad) # -> 잘못된 값이 나옴(미분값이 덮어 써지기 때문이다)"
   ]
  },
  {
   "cell_type": "code",
   "execution_count": 101,
   "id": "8a3211bd",
   "metadata": {},
   "outputs": [],
   "source": [
    "'''Variable 클래스 수정'''\n",
    "class Variable:\n",
    "    def __init__(self,data):\n",
    "        self.data = data\n",
    "        self.grad = None\n",
    "        self.creator = None\n",
    "        \n",
    "    def set_creator(self, func):\n",
    "        self.creator = func\n",
    "        \n",
    "    def backward(self):\n",
    "        if self.grad is None:\n",
    "            self.grad = np.ones_like(self.data) \n",
    "                                                       \n",
    "        funcs = [self.creator] \n",
    "        while funcs:\n",
    "            f = funcs.pop()\n",
    "            gys = [output.grad for output in f.outputs] \n",
    "            gxs = f.backward(*gys)\n",
    "            if not isinstance (gxs, tuple): \n",
    "                gxs = (gxs,)\n",
    "                \n",
    "            for x, gx in zip(f.inputs, gxs):\n",
    "                if x.grad is None: # 미분값을 처음 설정하는 경우는 출력 쪽에서 전해지는 미분값을 그대로 대입\n",
    "                    x.grad = gx\n",
    "                else:\n",
    "                    x.grad = x.grad + gx # 다음번부터는 전달된 미분값을 더해줌\n",
    "                \n",
    "                if x.creator is not None:\n",
    "                    funcs.append(x.creator)\n"
   ]
  },
  {
   "cell_type": "code",
   "execution_count": 102,
   "id": "4e03bb32",
   "metadata": {},
   "outputs": [
    {
     "name": "stdout",
     "output_type": "stream",
     "text": [
      "y 6.0\n",
      "x.grad 2.0\n"
     ]
    }
   ],
   "source": [
    "x = Variable(np.array(3.0))\n",
    "y = add(x,x)\n",
    "print('y', y.data)\n",
    "\n",
    "y.backward()\n",
    "print('x.grad', x.grad)"
   ]
  },
  {
   "cell_type": "code",
   "execution_count": 103,
   "id": "ba066f65",
   "metadata": {},
   "outputs": [],
   "source": [
    "'''여러 가지 미분을 연달아 계산할 때 똑같은 변수를 재사용 할 수 있도록 클래스에 미분값을 초기화하는 cleargrad 메서드를 추가해 준다'''\n",
    "\n",
    "class Variable:\n",
    "    def __init__(self,data):\n",
    "        self.data = data\n",
    "        self.grad = None\n",
    "        self.creator = None\n",
    "        \n",
    "    def set_creator(self, func):\n",
    "        self.creator = func\n",
    "        \n",
    "    def backward(self):\n",
    "        if self.grad is None:\n",
    "            self.grad = np.ones_like(self.data) \n",
    "                                                       \n",
    "        funcs = [self.creator] \n",
    "        while funcs:\n",
    "            f = funcs.pop()\n",
    "            gys = [output.grad for output in f.outputs] \n",
    "            gxs = f.backward(*gys)\n",
    "            if not isinstance (gxs, tuple): \n",
    "                gxs = (gxs,)\n",
    "                \n",
    "            for x, gx in zip(f.inputs, gxs):\n",
    "                if x.grad is None:\n",
    "                    x.grad = gx\n",
    "                else:\n",
    "                    x.grad = x.grad + gx\n",
    "                \n",
    "                if x.creator is not None:\n",
    "                    funcs.append(x.creator)\n",
    "    def cleargrad(self):\n",
    "        self.grad = None"
   ]
  },
  {
   "cell_type": "code",
   "execution_count": 104,
   "id": "2da95ba8",
   "metadata": {},
   "outputs": [
    {
     "name": "stdout",
     "output_type": "stream",
     "text": [
      "2.0\n",
      "3.0\n"
     ]
    }
   ],
   "source": [
    "#첫 번째 계산\n",
    "x = Variable(np.array(3.0))\n",
    "y = add(x,x)\n",
    "y.backward()\n",
    "print(x.grad)\n",
    "#두 번째 계산\n",
    "x.cleargrad() # 미분값 초기화\n",
    "y = add(add(x,x), x)\n",
    "y.backward()\n",
    "print(x.grad) # 두 번째 x.backward()를 호출하기 전에 x.cleargrad()를 호출하면 변수에 누적된 미분값이 초기화 됨!"
   ]
  },
  {
   "cell_type": "markdown",
   "id": "c1cdce05",
   "metadata": {},
   "source": [
    "지금까지 구현한 계산 그래프는 한줄로 나열되어 리스트에서 원소(함수)를 꺼내는 순서를 고려하지 않아도 괜찮았지만, 다양한 위상의 계산 그래프에 대응하기 위해선 함수에 **우선순위**를 줄 수 있어야 한다. \n",
    "\n",
    "우선순위를 설정하기 위해 함수와 변수의 세대를 기록하여 역전파 시 세대 수가 큰 쪽부터 처리하면 올바른 순서로 진행할 수 있다."
   ]
  },
  {
   "cell_type": "code",
   "execution_count": 105,
   "id": "3599c6aa",
   "metadata": {},
   "outputs": [],
   "source": [
    "'''세대 추가'''\n",
    "\n",
    "class Variable:\n",
    "    def __init__(self,data):\n",
    "        if data is not None:\n",
    "            if not ininstance(data, np.ndarray):\n",
    "                raise TypeError('{}은 지원하지 않습니다'.format(type(data)))\n",
    "                \n",
    "        self.data = data\n",
    "        self.grad = None\n",
    "        self.creator = None\n",
    "        self.generation = 0 # 세대 수를 기록하는 변수\n",
    "        \n",
    "    def set_creator(self, func):\n",
    "        self.creator = func\n",
    "        self.generation = func.generation + 1 # 세대를 기록한다(부모 세대 + 1)\n",
    "        \n",
    "    def backward(self):\n",
    "        if self.grad is None:\n",
    "            self.grad = np.ones_like(self.data) \n",
    "                                                       \n",
    "        funcs = [self.creator] \n",
    "        while funcs:\n",
    "            f = funcs.pop()\n",
    "            gys = [output.grad for output in f.outputs] \n",
    "            gxs = f.backward(*gys)\n",
    "            if not isinstance (gxs, tuple): \n",
    "                gxs = (gxs,)\n",
    "                \n",
    "            for x, gx in zip(f.inputs, gxs):\n",
    "                if x.grad is None:\n",
    "                    x.grad = gx\n",
    "                else:\n",
    "                    x.grad = x.grad + gx\n",
    "                \n",
    "                if x.creator is not None:\n",
    "                    funcs.append(x.creator)\n",
    "   \n",
    "    def cleargrad(self):\n",
    "        self.grad = None"
   ]
  },
  {
   "cell_type": "code",
   "execution_count": 106,
   "id": "5d110c45",
   "metadata": {},
   "outputs": [],
   "source": [
    "'''Function 클래스의 generation은 입력 변수와 같은 값으로 설정한다. 입력 변수가 둘 이상이라면 가장 큰 generation의 수를 선택한다.'''\n",
    "\n",
    "class Function:\n",
    "    def __call__(self, *inputs): \n",
    "        xs = [x.data for x in inputs] \n",
    "        ys = self.forward(*xs) \n",
    "        if not isinstance(ys, tuple): \n",
    "            ys = (ys,)\n",
    "        outputs = [Variable(as_array(y)) for y in ys]\n",
    "        \n",
    "        self.generation = max([x.generation for x in inputs]) # Function의 generation 설정\n",
    "        for output in outputs:\n",
    "            output.set_creator(self)        \n",
    "        self.inputs = inputs\n",
    "        self.outputs = outputs \n",
    "    \n",
    "        return outputs if len(outputs) > 1 else outputs[0]\n",
    "\n",
    "class Add(Function):\n",
    "    def forward(self, x0, x1):\n",
    "        y = x0 + x1 \n",
    "        return y"
   ]
  },
  {
   "cell_type": "markdown",
   "id": "f51601fc",
   "metadata": {},
   "source": [
    "**key = lambda x: x.generation**\n",
    "\n",
    "리스트의 원소를 x라고 했을 때 x.generation을 키로 사용해 정렬하라"
   ]
  },
  {
   "cell_type": "code",
   "execution_count": 107,
   "id": "6c3ec47e",
   "metadata": {},
   "outputs": [],
   "source": [
    "'''Variable 클래스의 backward 메서드 구현 - add_func 함수 추가'''\n",
    "\n",
    "class Variable:\n",
    "    def __init__(self,data):\n",
    "                \n",
    "        self.data = data\n",
    "        self.grad = None\n",
    "        self.creator = None\n",
    "        self.generation = 0 \n",
    "        \n",
    "    def set_creator(self, func):\n",
    "        self.creator = func\n",
    "        self.generation = func.generation + 1 \n",
    "        \n",
    "    def backward(self):\n",
    "        if self.grad is None:\n",
    "            self.grad = np.ones_like(self.data) \n",
    "                                                       \n",
    "        funcs = []\n",
    "        seen_set = set()\n",
    "        \n",
    "        def add_func(f): # 역전파를 수행할 때 사용되는 함수 객체들을 관리하는 역할 / 리스트를 세대 순으로 정렬 \n",
    "            if f not in seen_set: # 같은 함수를 중복해서 처리하는 것을 방지\n",
    "                funcs.append(f) # 처리해야 할 함수들을 funcs 리스트에 추가\n",
    "                seen_set.add(f)\n",
    "                funcs.sort(key = lambda x: x.generation)\n",
    "                \n",
    "        add_func(self.creator)\n",
    "        \n",
    "        while funcs:\n",
    "            f = funcs.pop() # 세대 순으로 정렬되었기 때문에 자동으로 세대가 가장 큰 함수를 꺼낸다\n",
    "            gys = [output.grad for output in f.outputs] \n",
    "            gxs = f.backward(*gys)\n",
    "            if not isinstance (gxs, tuple): \n",
    "                gxs = (gxs,)\n",
    "                \n",
    "            for x, gx in zip(f.inputs, gxs):\n",
    "                if x.grad is None:\n",
    "                    x.grad = gx\n",
    "                else:\n",
    "                    x.grad = x.grad + gx\n",
    "                \n",
    "                if x.creator is not None:\n",
    "                    add_func(x.creator) # 수정 전 : funcs.append(x.creator)\n",
    "   \n",
    "    def cleargrad(self):\n",
    "        self.grad = None"
   ]
  },
  {
   "cell_type": "markdown",
   "id": "c5b2302d",
   "metadata": {},
   "source": [
    "add_func 함수를 backward 메서드 안에 **중첩 함수**로 정의하였다. 중첩 함수는 다음 두 조건을 충족할 때 적합하다.\n",
    "\n",
    "1. 감싸는 메서드 안에서만 이용한다.\n",
    "2. 감싸는 메서드에 정의된 변수를 사용해야 한다."
   ]
  },
  {
   "cell_type": "code",
   "execution_count": 113,
   "id": "6a81f97d",
   "metadata": {},
   "outputs": [],
   "source": [
    "# 동작 확인을 위해 위에 정의한 함수를 다시 가져옴\n",
    "\n",
    "class Square(Function):\n",
    "    def forward(self,x):\n",
    "        y = x ** 2\n",
    "        return y\n",
    "    \n",
    "    def backward(self, gy):\n",
    "        x = self.inputs[0].data \n",
    "        gx = 2 * x * gy\n",
    "        return gx \n",
    "    \n",
    "class Add(Function):\n",
    "    def forward(self, x0, x1):\n",
    "        y = x0 + x1\n",
    "        return y\n",
    "    \n",
    "    def backward(self,gy): \n",
    "        return gy, gy \n",
    "    \n",
    "def square(x):\n",
    "    f = Square()\n",
    "    return f(x)"
   ]
  },
  {
   "cell_type": "code",
   "execution_count": 114,
   "id": "c2b3330d",
   "metadata": {},
   "outputs": [
    {
     "name": "stdout",
     "output_type": "stream",
     "text": [
      "32.0\n",
      "64.0\n"
     ]
    }
   ],
   "source": [
    "'''동작 확인'''\n",
    "\n",
    "x = Variable(np.array(2.0))\n",
    "a = square(x)\n",
    "y = add(square(a),square(a))\n",
    "y.backward()\n",
    "\n",
    "print(y.data)\n",
    "print(x.grad)"
   ]
  }
 ],
 "metadata": {
  "kernelspec": {
   "display_name": "Python 3 (ipykernel)",
   "language": "python",
   "name": "python3"
  },
  "language_info": {
   "codemirror_mode": {
    "name": "ipython",
    "version": 3
   },
   "file_extension": ".py",
   "mimetype": "text/x-python",
   "name": "python",
   "nbconvert_exporter": "python",
   "pygments_lexer": "ipython3",
   "version": "3.9.13"
  }
 },
 "nbformat": 4,
 "nbformat_minor": 5
}
