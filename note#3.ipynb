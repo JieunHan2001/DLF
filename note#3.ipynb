{
 "cells": [
  {
   "cell_type": "markdown",
   "id": "47c68702",
   "metadata": {},
   "source": [
    "## 정리노트 #3"
   ]
  },
  {
   "cell_type": "markdown",
   "id": "738c02ef",
   "metadata": {},
   "source": [
    "DeZero의 성능을 개선하기 위해 처리 속도와 메모리 사용량을 개선한다.\n",
    "\n",
    "파이썬의 메모리 관리는 두 가지 방식이 있는데, 참조(reference) 수를 세는 방식과 Garbage Collection 방식(세대를 기준으로 쓸모없어진 객체를 회수하는 방식)이 있다. 참조 카운트는 파이썬 메모리 관리의 기본이고 구조가 간단하며 속도도 빠르다.\n",
    "\n",
    "*참조 카운트* : \n",
    "모든 객체는 참조 카운트가 0인 상태로 생성되고 다른 객체가 참조할 때 마다 1씩 증가, 객체에 대한 참조가 끊길 때 마다 1씩 감소. 0이 되면 파이썬 인터프리터가 회수\n",
    "\n",
    "참조 카운트는 순환참조 문제를 해결할 수 없다. 순환 참조는 객체가 원 모양을 그리며 서로가 서로를 참조하게 되는 상태인데, 파이썬 모듈인 weakref로 해결할 수 있다."
   ]
  },
  {
   "cell_type": "code",
   "execution_count": 1,
   "id": "ae7a8d99",
   "metadata": {},
   "outputs": [],
   "source": [
    "import weakref # 약한 참조를 만들기(참조는 하되 카운트를 증가시키지 않는다)\n",
    "import numpy as np\n",
    "\n",
    "a = np.array([1,2,3])\n",
    "b = weakref.ref(a)"
   ]
  },
  {
   "cell_type": "code",
   "execution_count": 2,
   "id": "680b0ee9",
   "metadata": {},
   "outputs": [
    {
     "data": {
      "text/plain": [
       "<weakref at 0x000001F3A9520E50; to 'numpy.ndarray' at 0x000001F3A94B86F0>"
      ]
     },
     "execution_count": 2,
     "metadata": {},
     "output_type": "execute_result"
    }
   ],
   "source": [
    "b"
   ]
  },
  {
   "cell_type": "code",
   "execution_count": 3,
   "id": "de1d5227",
   "metadata": {
    "scrolled": true
   },
   "outputs": [
    {
     "data": {
      "text/plain": [
       "array([1, 2, 3])"
      ]
     },
     "execution_count": 3,
     "metadata": {},
     "output_type": "execute_result"
    }
   ],
   "source": [
    "b() # 데이터에 접근"
   ]
  },
  {
   "cell_type": "code",
   "execution_count": 4,
   "id": "ced9c9a9",
   "metadata": {},
   "outputs": [
    {
     "data": {
      "text/plain": [
       "<weakref at 0x000001F3A9520E50; to 'numpy.ndarray' at 0x000001F3A94B86F0>"
      ]
     },
     "execution_count": 4,
     "metadata": {},
     "output_type": "execute_result"
    }
   ],
   "source": [
    "a = None\n",
    "b "
   ]
  },
  {
   "cell_type": "markdown",
   "id": "620eb94d",
   "metadata": {},
   "source": [
    "IPython과 주피터 노트북 등의 인터프리터는 인터프리터 자체가 모르는 참조를 추가로 유지하기 때문에 앞의 코드에서 b가 여전히 유효한 참조를 유지한다. 위 코드는 파이썬 인터프리터에서 실행하면 정상적으로 dead 된다 "
   ]
  },
  {
   "cell_type": "code",
   "execution_count": 5,
   "id": "5d110c45",
   "metadata": {},
   "outputs": [],
   "source": [
    "'''DeZero에 weakref구조 도입'''\n",
    "\n",
    "import weakref\n",
    "\n",
    "class Function:\n",
    "    def __call__(self, *inputs): \n",
    "        xs = [x.data for x in inputs] \n",
    "        ys = self.forward(*xs) \n",
    "        if not isinstance(ys, tuple): \n",
    "            ys = (ys,)\n",
    "        outputs = [Variable(as_array(y)) for y in ys]\n",
    "        \n",
    "        self.generation = max([x.generation for x in inputs])\n",
    "        for output in outputs:\n",
    "            output.set_creator(self)        \n",
    "        self.inputs = inputs\n",
    "        self.outputs = [weakref.ref(output) for output in outputs] # 인스턴스 변수 self.outputs가 대상을 약한 참조로 가리키게 변경\n",
    "        return outputs if len(outputs) > 1 else outputs[0]\n",
    "\n",
    "class Add(Function):\n",
    "    def forward(self, x0, x1):\n",
    "        y = x0 + x1 \n",
    "        return y"
   ]
  },
  {
   "cell_type": "code",
   "execution_count": 6,
   "id": "6c3ec47e",
   "metadata": {},
   "outputs": [],
   "source": [
    "'''backward 메서드 수정'''\n",
    "\n",
    "class Variable:\n",
    "    def __init__(self,data):\n",
    "                \n",
    "        self.data = data\n",
    "        self.grad = None\n",
    "        self.creator = None\n",
    "        self.generation = 0 \n",
    "        \n",
    "    def set_creator(self, func):\n",
    "        self.creator = func\n",
    "        self.generation = func.generation + 1 \n",
    "        \n",
    "    def backward(self):\n",
    "        if self.grad is None:\n",
    "            self.grad = np.ones_like(self.data) \n",
    "                                                       \n",
    "        funcs = []\n",
    "        seen_set = set()\n",
    "        \n",
    "        def add_func(f):\n",
    "            if f not in seen_set:\n",
    "                funcs.append(f)\n",
    "                seen_set.add(f)\n",
    "                funcs.sort(key = lambda x: x.generation)\n",
    "                \n",
    "        add_func(self.creator)\n",
    "        \n",
    "        while funcs:\n",
    "            f = funcs.pop() \n",
    "            # gys = [output.grad for output in f.outputs] : 수정 전\n",
    "            gys = [output().grad for output in f.outputs]\n",
    "            gxs = f.backward(*gys)\n",
    "            if not isinstance (gxs, tuple): \n",
    "                gxs = (gxs,)\n",
    "                \n",
    "            for x, gx in zip(f.inputs, gxs):\n",
    "                if x.grad is None:\n",
    "                    x.grad = gx\n",
    "                else:\n",
    "                    x.grad = x.grad + gx\n",
    "                \n",
    "                if x.creator is not None:\n",
    "                    add_func(x.creator)\n",
    "   \n",
    "    def cleargrad(self):\n",
    "        self.grad = None"
   ]
  },
  {
   "cell_type": "code",
   "execution_count": 7,
   "id": "e9cb3184",
   "metadata": {},
   "outputs": [],
   "source": [
    "# 동작 확인을 위해 note#2의 코드를 가져옴\n",
    "\n",
    "class Square(Function):\n",
    "    def forward(self,x):\n",
    "        y = x ** 2\n",
    "        return y\n",
    "    \n",
    "    def backward(self, gy):\n",
    "        x = self.inputs[0].data \n",
    "        gx = 2 * x * gy\n",
    "        return gx \n",
    "    \n",
    "class Add(Function):\n",
    "    def forward(self, x0, x1):\n",
    "        y = x0 + x1\n",
    "        return y\n",
    "    \n",
    "    def backward(self,gy): \n",
    "        return gy, gy \n",
    "    \n",
    "def square(x):\n",
    "    f = Square()\n",
    "    return f(x)\n",
    "\n",
    "def add(x0, x1):\n",
    "    return Add()(x0, x1)\n",
    "\n",
    "def as_array(x):\n",
    "    if np.isscalar(x):  \n",
    "        return np.array(x)  \n",
    "    return x"
   ]
  },
  {
   "cell_type": "code",
   "execution_count": 8,
   "id": "bc5961cf",
   "metadata": {},
   "outputs": [],
   "source": [
    "'''동작 확인'''\n",
    "\n",
    "for i in range(10):\n",
    "    x = Variable(np.random.randn(100000)) # 거대한 데이터\n",
    "    y = square(square(square(x))) # 복잡한 계산을 수행한다"
   ]
  },
  {
   "cell_type": "markdown",
   "id": "21571a68",
   "metadata": {},
   "source": [
    "파이썬의 메모리 사용량을 측정하려면 외부 라이브러리인 memory profiler 등을 사용하면 편리하다!"
   ]
  },
  {
   "cell_type": "markdown",
   "id": "23d4dc8a",
   "metadata": {},
   "source": [
    "#### DeZero의 메모리 사용을 개선할 수 있는 구조 두 가지 \n",
    "1. 역전파 시 사용하는 메모리양을 줄이는 방법 (불필요한 미분 결과를 보관하지 않고 즉시 삭제)\n",
    "2. '역전파가 필요 없는 경우'용 모드를 제공 (이 모드에서는 불필요한 계산을 생략)"
   ]
  },
  {
   "cell_type": "code",
   "execution_count": 9,
   "id": "5ebc003f",
   "metadata": {},
   "outputs": [
    {
     "name": "stdout",
     "output_type": "stream",
     "text": [
      "1.0 1.0\n",
      "2.0 1.0\n"
     ]
    }
   ],
   "source": [
    "x0 = Variable(np.array(1.0))\n",
    "x1 = Variable(np.array(1.0))\n",
    "t = add(x0, x1)\n",
    "y = add(x0, t)\n",
    "y.backward()\n",
    "\n",
    "print(y.grad, t.grad)\n",
    "print(x0.grad, x1.grad) "
   ]
  },
  {
   "cell_type": "markdown",
   "id": "04912a71",
   "metadata": {},
   "source": [
    "위 결과를 보면, 현재의 DeZero는 모든 변수가 미분값을 변수에 저장해 두고 있다.\n",
    "\n",
    "하지만 대부분 역전파로 구하고 싶은 미분값은 말단 변수(x0, x1)이고 y와 t같은 중간 변수의 미분값은 필요하지 않다.\n",
    "\n",
    "중간 변수에 대해서는 미분값을 제거하는 코드를 추가하여 메모리 사용에 관해 개선한다. "
   ]
  },
  {
   "cell_type": "code",
   "execution_count": 10,
   "id": "70547f9e",
   "metadata": {},
   "outputs": [],
   "source": [
    "'''첫 번째 개선 = 필요 없는 미분값 삭제'''\n",
    "\n",
    "class Variable:\n",
    "    def __init__(self,data):\n",
    "                \n",
    "        self.data = data\n",
    "        self.grad = None\n",
    "        self.creator = None\n",
    "        self.generation = 0 \n",
    "        \n",
    "    def set_creator(self, func):\n",
    "        self.creator = func\n",
    "        self.generation = func.generation + 1 \n",
    "        \n",
    "    def backward(self, retain_grad = False): #메서드의 인수에 retain_grad를 추가 : 중간 변수의 미분값을 모두 None으로 재설정\n",
    "        if self.grad is None:\n",
    "            self.grad = np.ones_like(self.data) \n",
    "                                                       \n",
    "        funcs = []\n",
    "        seen_set = set()\n",
    "        \n",
    "        def add_func(f):\n",
    "            if f not in seen_set:\n",
    "                funcs.append(f)\n",
    "                seen_set.add(f)\n",
    "                funcs.sort(key = lambda x: x.generation)\n",
    "                \n",
    "        add_func(self.creator)\n",
    "        \n",
    "        while funcs:\n",
    "            f = funcs.pop() \n",
    "            gys = [output().grad for output in f.outputs]\n",
    "            gxs = f.backward(*gys)\n",
    "            if not isinstance (gxs, tuple): \n",
    "                gxs = (gxs,)\n",
    "                \n",
    "            for x, gx in zip(f.inputs, gxs):\n",
    "                if x.grad is None:\n",
    "                    x.grad = gx\n",
    "                else:\n",
    "                    x.grad = x.grad + gx\n",
    "                \n",
    "                if x.creator is not None:\n",
    "                    add_func(x.creator)\n",
    "                \n",
    "            if not retain_grad: \n",
    "                for y in f.outputs:\n",
    "                    y().grad = None # 각 함수의 출력 변수의 미분값을 유지하지 않도록 설정 / y는 약한 참조\n",
    "   \n",
    "    def cleargrad(self):\n",
    "        self.grad = None"
   ]
  },
  {
   "cell_type": "code",
   "execution_count": 11,
   "id": "6b31f5c7",
   "metadata": {},
   "outputs": [
    {
     "name": "stdout",
     "output_type": "stream",
     "text": [
      "None None\n",
      "2.0 1.0\n"
     ]
    }
   ],
   "source": [
    "x0 = Variable(np.array(1.0))\n",
    "x1 = Variable(np.array(1.0))\n",
    "t = add(x0, x1)\n",
    "y = add(x0, t)\n",
    "y.backward()\n",
    "\n",
    "print(y.grad, t.grad)\n",
    "print(x0.grad, x1.grad) "
   ]
  },
  {
   "cell_type": "markdown",
   "id": "b6c887ea",
   "metadata": {},
   "source": [
    "위와 같이 중간 변수인 y와 t의 미분값이 삭제되어 그만큼의 메모리를 다른 용도로 사용할 수 있다."
   ]
  },
  {
   "cell_type": "markdown",
   "id": "3f9c5890",
   "metadata": {},
   "source": [
    "신경망에는 **학습**과 **추론**이라는 두 가지 단계가 있는데, 학습 시에는 미분값을 구해야 하지만 추론 시에는 단순히 순전파만 하기 때문에 중간 계산 결과를 곧바로 버리면 메모리 사용량을 크게 줄일 수 있다.\n",
    "\n",
    "미분값이 필요 없는 경우 중간 계산 결과를 저장할 필요가 없기 때문에 순전파만 할 경우를 위한 개선을 Dezero에 추가한다."
   ]
  },
  {
   "cell_type": "code",
   "execution_count": 12,
   "id": "e4361455",
   "metadata": {},
   "outputs": [],
   "source": [
    "'''두 번째 개선 = 순전파만 할 경우를 위한 개선 / 역전파 활성 모드와 역전파 비활성 모드를 전환하는 구조 필요'''\n",
    "\n",
    "class Config:\n",
    "    enable_backprop = True # 역전파가 가능한지 여부를 뜻하고 이 값이 True면 역전파 활성 모드이다."
   ]
  },
  {
   "cell_type": "code",
   "execution_count": 13,
   "id": "7d123ba9",
   "metadata": {},
   "outputs": [],
   "source": [
    "'''Function에서 config 클래스를 참조하여 모드를 전환하게 함'''\n",
    "\n",
    "class Function:\n",
    "    def __call__(self, *inputs): \n",
    "        xs = [x.data for x in inputs] \n",
    "        ys = self.forward(*xs) \n",
    "        if not isinstance(ys, tuple): \n",
    "            ys = (ys,)\n",
    "        outputs = [Variable(as_array(y)) for y in ys]\n",
    "        \n",
    "        if Config.enable_backprop: # 코드 추가\n",
    "            self.generation = max([x.generation for x in inputs]) # 세대 설정\n",
    "            for output in outputs:\n",
    "                output.set_creator(self)  # 연결 설정      \n",
    "            self.inputs = inputs\n",
    "            self.outputs = [weakref.ref(output) for output in outputs]\n",
    "        return outputs if len(outputs) > 1 else outputs[0]"
   ]
  },
  {
   "cell_type": "markdown",
   "id": "85d3ca27",
   "metadata": {},
   "source": [
    "#### 파이썬의 with문 : 후처리를 자동으로 수행하고자 할 때 사용\n",
    "with문을 사용하는 것으로 with블록에 들어갈 때의 처리(전처리)와 with 블록을 빠져나올 때의 처리(후처리)를 자동으로 할 수 있다. \n"
   ]
  },
  {
   "cell_type": "code",
   "execution_count": 14,
   "id": "00f9fbd6",
   "metadata": {},
   "outputs": [],
   "source": [
    "'''with문을 사용하여 역전파 비활성 모드로 전환 - contextlib 모듈'''\n",
    "\n",
    "import contextlib\n",
    "\n",
    "@contextlib.contextmanager # 문맥을 판단하는 함수가 만들어짐\n",
    "def using_config(name, value):\n",
    "    old_value = getattr(Config, name) \n",
    "    setattr(Config, name, value)\n",
    "    try:\n",
    "        yield\n",
    "    finally:\n",
    "        setattr(Config, name, old_value)"
   ]
  },
  {
   "cell_type": "markdown",
   "id": "98683ab9",
   "metadata": {},
   "source": [
    "▶ **getattr 함수**는 Python에서 객체의 속성값을 가져오는 내장 함수. Config 클래스에서 name 매개변수에 해당하는 속성의 현재 값을 old_value에 저장, 설정을 원래대로 복구하기 위해 필요.\n",
    "\n",
    "▶ **setattr 함수**는 지정된 객체에 새로운 속성을 추가하거나 기존 속성의 값을 변경. 위 코드에선 Config의 name 설정을 value로 변경.\n",
    "\n",
    "▶**yield 문**은 with 블록 내의 코드가 실행되는 지점을 나타냄.\n",
    "\n",
    "▶ **finally 블록**에서 with 블록을 떠나기 전 setattr(Config, name, old_value)를 사용하여 설정을 원래의 값(old_value)으로 복원.\n",
    "\n",
    "이 함수를 사용하여 해당 블록 내에서만 설정을 변경할 수 있다."
   ]
  },
  {
   "cell_type": "code",
   "execution_count": 15,
   "id": "ca8efe05",
   "metadata": {},
   "outputs": [],
   "source": [
    "def no_grad(): # 기울기가 필요 없을 때는 no_grad 함수를 호출 / 순전파 계산만 필요할 때 '모드 전환'을 사용\n",
    "    return using_config('enable_backprop', False)\n",
    "\n",
    "with no_grad():\n",
    "    x = Variable(np.array(2.0))\n",
    "    y = square(x)"
   ]
  },
  {
   "cell_type": "code",
   "execution_count": 16,
   "id": "a0d82e8e",
   "metadata": {},
   "outputs": [],
   "source": [
    "'''변수 사용성 개선 - 변수들을 서로 구분하기 위해 이름을 붙여줄 수 있도록 설정'''\n",
    "\n",
    "class Variable:\n",
    "    def __init__(self,data, name=None): # name이라는 인스턴스 변수를 추가\n",
    "                \n",
    "        self.data = data\n",
    "        self.name = name\n",
    "        self.grad = None\n",
    "        self.creator = None\n",
    "        self.generation = 0 \n",
    "        \n",
    "    def set_creator(self, func):\n",
    "        self.creator = func\n",
    "        self.generation = func.generation + 1 \n",
    "        \n",
    "    def backward(self, retain_grad = False):\n",
    "        if self.grad is None:\n",
    "            self.grad = np.ones_like(self.data) \n",
    "                                                       \n",
    "        funcs = []\n",
    "        seen_set = set()\n",
    "        \n",
    "        def add_func(f):\n",
    "            if f not in seen_set:\n",
    "                funcs.append(f)\n",
    "                seen_set.add(f)\n",
    "                funcs.sort(key = lambda x: x.generation)\n",
    "                \n",
    "        add_func(self.creator)\n",
    "        \n",
    "        while funcs:\n",
    "            f = funcs.pop() \n",
    "            gys = [output().grad for output in f.outputs]\n",
    "            gxs = f.backward(*gys)\n",
    "            if not isinstance (gxs, tuple): \n",
    "                gxs = (gxs,)\n",
    "                \n",
    "            for x, gx in zip(f.inputs, gxs):\n",
    "                if x.grad is None:\n",
    "                    x.grad = gx\n",
    "                else:\n",
    "                    x.grad = x.grad + gx\n",
    "                \n",
    "                if x.creator is not None:\n",
    "                    add_func(x.creator)\n",
    "                \n",
    "            if not retain_grad: \n",
    "                for y in f.outputs:\n",
    "                    y().grad = None "
   ]
  },
  {
   "cell_type": "markdown",
   "id": "0c00a175",
   "metadata": {},
   "source": [
    "사용하는 사람 입장에서 데이터를 담는 상자보다 그 안의 데이터가 더 중요하다. 아래 코드는 Variable 인스턴스를 ndarray 인스턴스처럼 보이게 해 주는 장치를 추가한 코드이다.  "
   ]
  },
  {
   "cell_type": "code",
   "execution_count": 17,
   "id": "204ebb39",
   "metadata": {},
   "outputs": [],
   "source": [
    "'''ndarray 인스턴스 변수'''\n",
    "\n",
    "class Variable:\n",
    "    def __init__(self,data, name=None): \n",
    "                \n",
    "        self.data = data\n",
    "        self.name = name\n",
    "        self.grad = None\n",
    "        self.creator = None\n",
    "        self.generation = 0 \n",
    "        \n",
    "    def set_creator(self, func):\n",
    "        self.creator = func\n",
    "        self.generation = func.generation + 1 \n",
    "        \n",
    "    def backward(self, retain_grad = False):\n",
    "        if self.grad is None:\n",
    "            self.grad = np.ones_like(self.data) \n",
    "    \n",
    "        funcs = []\n",
    "        seen_set = set()\n",
    "        \n",
    "        def add_func(f):\n",
    "            if f not in seen_set:\n",
    "                funcs.append(f)\n",
    "                seen_set.add(f)\n",
    "                funcs.sort(key = lambda x: x.generation)\n",
    "                \n",
    "        add_func(self.creator)\n",
    "        \n",
    "        while funcs:\n",
    "            f = funcs.pop() \n",
    "            gys = [output().grad for output in f.outputs]\n",
    "            gxs = f.backward(*gys)\n",
    "            if not isinstance (gxs, tuple): \n",
    "                gxs = (gxs,)\n",
    "                \n",
    "            for x, gx in zip(f.inputs, gxs):\n",
    "                if x.grad is None:\n",
    "                    x.grad = gx\n",
    "                else:\n",
    "                    x.grad = x.grad + gx\n",
    "                \n",
    "                if x.creator is not None:\n",
    "                    add_func(x.creator)\n",
    "                \n",
    "            if not retain_grad: \n",
    "                for y in f.outputs:\n",
    "                    y().grad = None \n",
    "                    \n",
    "    @property # 메서드 추가\n",
    "    def shape(self):\n",
    "        return self.data.shape\n",
    "    \n",
    "    @property # 메서드 추가\n",
    "    def ndim(self):\n",
    "        return self.data.ndim\n",
    "    \n",
    "    @property # 메서드 추가\n",
    "    def size(self):\n",
    "        return self.data.size\n",
    " \n",
    "    @property # 메서드 추가\n",
    "    def dtype(self):\n",
    "        return self.data.dtype"
   ]
  },
  {
   "cell_type": "markdown",
   "id": "fe95dcd0",
   "metadata": {},
   "source": [
    "인스턴스 변수 shape은 다차원 배열의 형상을 알려주고, ndim은 차원 수, size는 원소 수, dtype은 데이터 타입을 나타낸다. \n",
    "\n",
    "@propety 데코레이터는 파이썬에서 메서드를 속성처럼 접근할 수 있게 해 주는 구문. 위 코드에 추가되어 메서드를 인스턴스 변수처럼 사용할 수 있다."
   ]
  },
  {
   "cell_type": "code",
   "execution_count": 18,
   "id": "430920b9",
   "metadata": {},
   "outputs": [
    {
     "name": "stdout",
     "output_type": "stream",
     "text": [
      "(2, 3)\n"
     ]
    }
   ],
   "source": [
    "x = Variable(np.array([[1,2,3],[4,5,6]]))\n",
    "print(x.shape) # x.shape()대신 x.shape로 호출할 수 있다. 괄호를 사용하지 않고도 해당 메서드의 값을 속성처럼 쉽게 가져올 수 있다."
   ]
  },
  {
   "cell_type": "markdown",
   "id": "4ae391fb",
   "metadata": {},
   "source": [
    "파이썬의 **len 함수**는 객체 수를 알려주는 파이썬의 표준 함수이다. 리스트 등에 사용하면 그 안에 포함된 원소 수를 반환한다."
   ]
  },
  {
   "cell_type": "code",
   "execution_count": 19,
   "id": "153a7580",
   "metadata": {},
   "outputs": [],
   "source": [
    "'''len 함수가 Variable 안의 원소 수를 인식'''\n",
    "\n",
    "class Variable:\n",
    "    def __init__(self,data, name=None): \n",
    "                \n",
    "        self.data = data\n",
    "        self.name = name\n",
    "        self.grad = None\n",
    "        self.creator = None\n",
    "        self.generation = 0 \n",
    "        \n",
    "    def set_creator(self, func):\n",
    "        self.creator = func\n",
    "        self.generation = func.generation + 1 \n",
    "        \n",
    "    def backward(self, retain_grad = False):\n",
    "        if self.grad is None:\n",
    "            self.grad = np.ones_like(self.data) \n",
    "    \n",
    "        funcs = []\n",
    "        seen_set = set()\n",
    "        \n",
    "        def add_func(f):\n",
    "            if f not in seen_set:\n",
    "                funcs.append(f)\n",
    "                seen_set.add(f)\n",
    "                funcs.sort(key = lambda x: x.generation)\n",
    "                \n",
    "        add_func(self.creator)\n",
    "        \n",
    "        while funcs:\n",
    "            f = funcs.pop() \n",
    "            gys = [output().grad for output in f.outputs]\n",
    "            gxs = f.backward(*gys)\n",
    "            if not isinstance (gxs, tuple): \n",
    "                gxs = (gxs,)\n",
    "                \n",
    "            for x, gx in zip(f.inputs, gxs):\n",
    "                if x.grad is None:\n",
    "                    x.grad = gx\n",
    "                else:\n",
    "                    x.grad = x.grad + gx\n",
    "                \n",
    "                if x.creator is not None:\n",
    "                    add_func(x.creator)\n",
    "                \n",
    "            if not retain_grad: \n",
    "                for y in f.outputs:\n",
    "                    y().grad = None \n",
    "                    \n",
    "    @property \n",
    "    def shape(self):\n",
    "        return self.data.shape\n",
    "    \n",
    "    @property \n",
    "    def ndim(self):\n",
    "        return self.data.ndim\n",
    "    \n",
    "    @property \n",
    "    def size(self):\n",
    "        return self.data.size\n",
    " \n",
    "    @property \n",
    "    def dtype(self):\n",
    "        return self.data.dtype\n",
    "    \n",
    "    def __len__(self): # Variable 인스턴스에 대해 len 함수를 사용\n",
    "        return len(self.data)"
   ]
  },
  {
   "cell_type": "markdown",
   "id": "90e62ab9",
   "metadata": {},
   "source": [
    "파이썬에서 '\\_\\_init\\_\\_'과 '\\_\\_len\\_\\_'등 특별한 의미를 지닌 메서드는 밑줄 두개로 감싼 이름을 사용한다."
   ]
  },
  {
   "cell_type": "code",
   "execution_count": 20,
   "id": "5f6f46d8",
   "metadata": {},
   "outputs": [
    {
     "name": "stdout",
     "output_type": "stream",
     "text": [
      "2\n"
     ]
    }
   ],
   "source": [
    "x = Variable(np.array([[1,2,3],[4,5,6]]))\n",
    "print(len(x))"
   ]
  },
  {
   "cell_type": "code",
   "execution_count": 21,
   "id": "dc1129ec",
   "metadata": {},
   "outputs": [],
   "source": [
    "'''print 함수를 사용하여 Variable 안의 데이터 내용을 출력'''\n",
    "\n",
    "class Variable:\n",
    "    def __init__(self,data, name=None): \n",
    "                \n",
    "        self.data = data\n",
    "        self.name = name\n",
    "        self.grad = None\n",
    "        self.creator = None\n",
    "        self.generation = 0 \n",
    "        \n",
    "    def set_creator(self, func):\n",
    "        self.creator = func\n",
    "        self.generation = func.generation + 1 \n",
    "        \n",
    "    def backward(self, retain_grad = False):\n",
    "        if self.grad is None:\n",
    "            self.grad = np.ones_like(self.data) \n",
    "    \n",
    "        funcs = []\n",
    "        seen_set = set()\n",
    "        \n",
    "        def add_func(f):\n",
    "            if f not in seen_set:\n",
    "                funcs.append(f)\n",
    "                seen_set.add(f)\n",
    "                funcs.sort(key = lambda x: x.generation)\n",
    "                \n",
    "        add_func(self.creator)\n",
    "        \n",
    "        while funcs:\n",
    "            f = funcs.pop() \n",
    "            gys = [output().grad for output in f.outputs]\n",
    "            gxs = f.backward(*gys)\n",
    "            if not isinstance (gxs, tuple): \n",
    "                gxs = (gxs,)\n",
    "                \n",
    "            for x, gx in zip(f.inputs, gxs):\n",
    "                if x.grad is None:\n",
    "                    x.grad = gx\n",
    "                else:\n",
    "                    x.grad = x.grad + gx\n",
    "                \n",
    "                if x.creator is not None:\n",
    "                    add_func(x.creator)\n",
    "                \n",
    "            if not retain_grad: \n",
    "                for y in f.outputs:\n",
    "                    y().grad = None \n",
    "                    \n",
    "    @property \n",
    "    def shape(self):\n",
    "        return self.data.shape\n",
    "    \n",
    "    @property \n",
    "    def ndim(self):\n",
    "        return self.data.ndim\n",
    "    \n",
    "    @property \n",
    "    def size(self):\n",
    "        return self.data.size\n",
    " \n",
    "    @property \n",
    "    def dtype(self):\n",
    "        return self.data.dtype\n",
    "    \n",
    "    def __len__(self): \n",
    "        return len(self.data)\n",
    "    \n",
    "    def __repr__(self):\n",
    "        if self.data is None:\n",
    "            return 'Variable(None)'\n",
    "        p = str(self.data).replace('\\n', '\\n' + ' ' * 9) # ndarray 인스턴스를 문자열로 반환, 줄바꿈이 있으면 바꾼 후 공백을 출력하여 시작 위치를 가지런하게 만듦\n",
    "        return 'variable(' + p + ')' # 변환된 문자열 p를 'variable(...)' 형태의 문자열로 감싸서 반환"
   ]
  },
  {
   "cell_type": "markdown",
   "id": "aef05b96",
   "metadata": {},
   "source": [
    "\\_\\_repr__ 메서드는 객체를 대표하는 문자열을 반환하는데, 주로 개발자가 디버깅을 위해 그 객체의 정보를 문자열 형태로 보고 싶을 때 사용"
   ]
  },
  {
   "cell_type": "markdown",
   "id": "1a16ebd5",
   "metadata": {},
   "source": [
    "#### 연산자 오버로드"
   ]
  },
  {
   "cell_type": "code",
   "execution_count": 22,
   "id": "2cf8e2fe",
   "metadata": {},
   "outputs": [],
   "source": [
    "'''Mul 클래스 구현'''\n",
    "\n",
    "class Mul(Function):\n",
    "    def forward(self, x0, x1):\n",
    "        y = x0 * x1\n",
    "        return y\n",
    "\n",
    "    def backward(self, gy):\n",
    "        x0, x1 = self.inputs[0].data, self.inputs[1].data # 해당 연산에 대한 입력값들을 의미\n",
    "        return gy * x1, gy * x0\n",
    "    \n",
    "# Mul 클래스를 파이썬 함수로 사용    \n",
    "def mul(x0, x1):\n",
    "    return Mul()(x0, x1)"
   ]
  },
  {
   "cell_type": "code",
   "execution_count": 23,
   "id": "da6b273d",
   "metadata": {},
   "outputs": [
    {
     "name": "stdout",
     "output_type": "stream",
     "text": [
      "variable(7.0)\n",
      "2.0\n",
      "3.0\n"
     ]
    }
   ],
   "source": [
    "'''mul 함수를 이용하여 곱셈 하기'''\n",
    "\n",
    "a = Variable(np.array(3.0))\n",
    "b = Variable(np.array(2.0))\n",
    "c = Variable(np.array(1.0))\n",
    "\n",
    "y = add(mul(a,b),c)\n",
    "y.backward()\n",
    "\n",
    "print(y)\n",
    "print(a.grad)\n",
    "print(b.grad)"
   ]
  },
  {
   "cell_type": "markdown",
   "id": "6396bd3e",
   "metadata": {},
   "source": [
    "위 코드와 같이 매번 y = add(mul(a,b),c)처럼 코딩하기 번거롭기 때문에 y = a * b + c 형태로 바꿔준다.\n",
    "\n",
    "**연산자를 오버로드**하면 +와 \\*같은 연산자 사용 시 사용자가 설정한 함수가 호출된다."
   ]
  },
  {
   "cell_type": "code",
   "execution_count": 24,
   "id": "efe47d39",
   "metadata": {},
   "outputs": [],
   "source": [
    "'''곱셈 연산자 * 오버로드'''\n",
    "\n",
    "class Variable:\n",
    "    def __init__(self,data, name=None): \n",
    "                \n",
    "        self.data = data\n",
    "        self.name = name\n",
    "        self.grad = None\n",
    "        self.creator = None\n",
    "        self.generation = 0 \n",
    "        \n",
    "    def set_creator(self, func):\n",
    "        self.creator = func\n",
    "        self.generation = func.generation + 1 \n",
    "        \n",
    "    def backward(self, retain_grad = False):\n",
    "        if self.grad is None:\n",
    "            self.grad = np.ones_like(self.data) \n",
    "    \n",
    "        funcs = []\n",
    "        seen_set = set()\n",
    "        \n",
    "        def add_func(f):\n",
    "            if f not in seen_set:\n",
    "                funcs.append(f)\n",
    "                seen_set.add(f)\n",
    "                funcs.sort(key = lambda x: x.generation)\n",
    "                \n",
    "        add_func(self.creator)\n",
    "        \n",
    "        while funcs:\n",
    "            f = funcs.pop() \n",
    "            gys = [output().grad for output in f.outputs]\n",
    "            gxs = f.backward(*gys)\n",
    "            if not isinstance (gxs, tuple): \n",
    "                gxs = (gxs,)\n",
    "                \n",
    "            for x, gx in zip(f.inputs, gxs):\n",
    "                if x.grad is None:\n",
    "                    x.grad = gx\n",
    "                else:\n",
    "                    x.grad = x.grad + gx\n",
    "                \n",
    "                if x.creator is not None:\n",
    "                    add_func(x.creator)\n",
    "                \n",
    "            if not retain_grad: \n",
    "                for y in f.outputs:\n",
    "                    y().grad = None \n",
    "                    \n",
    "    @property \n",
    "    def shape(self):\n",
    "        return self.data.shape\n",
    "    \n",
    "    @property \n",
    "    def ndim(self):\n",
    "        return self.data.ndim\n",
    "    \n",
    "    @property \n",
    "    def size(self):\n",
    "        return self.data.size\n",
    " \n",
    "    @property \n",
    "    def dtype(self):\n",
    "        return self.data.dtype\n",
    "    \n",
    "    def __len__(self): \n",
    "        return len(self.data)\n",
    "    \n",
    "    def __repr__(self):\n",
    "        if self.data is None:\n",
    "            return 'Variable(None)'\n",
    "        p = str(self.data).replace('\\n', '\\n' + ' ' * 9)\n",
    "        return 'variable(' + p + ')'\n",
    "    \n",
    "    def __mul__(self, other):\n",
    "        return mul(self, other) # __mul__ 메서드 정의"
   ]
  },
  {
   "cell_type": "code",
   "execution_count": 25,
   "id": "21a686a3",
   "metadata": {},
   "outputs": [
    {
     "name": "stdout",
     "output_type": "stream",
     "text": [
      "variable(6.0)\n"
     ]
    }
   ],
   "source": [
    "a = Variable(np.array(3.0))\n",
    "b = Variable(np.array(2.0))\n",
    "\n",
    "y = a * b\n",
    "\n",
    "print(y)"
   ]
  },
  {
   "cell_type": "markdown",
   "id": "0fa82a3f",
   "metadata": {},
   "source": [
    "a * b가 실행될 때 인스턴스 a의 \\_\\_mul__(self, other) 메서드가 호출된다. a는 인수 self에 전달되고 b가 other에 전달된다.\n",
    "\n",
    "+) 인스턴스 a의 \\_\\_mul__(self, other) 메서드인 이유는 * 연산자를 사용하면 파이썬의 데이터 모델에 따라 먼저 왼쪽 피연산자의 __mul__ 메서드를 호출하려고 시도하여 파이썬은 a.__mul__(b)를 호출하게 된다. 연산자의 왼쪽 피연산자가 해당 메서드를 구현하고 있지 않거나 연산을 지원하지 않을 때만 오른쪽 피연산자의 반대 연산자 오버로딩 메서드(예: __rmul__)를 시도한다"
   ]
  },
  {
   "cell_type": "code",
   "execution_count": 26,
   "id": "8315f4f7",
   "metadata": {},
   "outputs": [],
   "source": [
    "'''간단한 코드로 변경'''\n",
    "\n",
    "class Variable:\n",
    "    def __init__(self,data, name=None): \n",
    "                \n",
    "        self.data = data\n",
    "        self.name = name\n",
    "        self.grad = None\n",
    "        self.creator = None\n",
    "        self.generation = 0 \n",
    "        \n",
    "    def set_creator(self, func):\n",
    "        self.creator = func\n",
    "        self.generation = func.generation + 1 \n",
    "        \n",
    "    def backward(self, retain_grad = False):\n",
    "        if self.grad is None:\n",
    "            self.grad = np.ones_like(self.data) \n",
    "    \n",
    "        funcs = []\n",
    "        seen_set = set()\n",
    "        \n",
    "        def add_func(f):\n",
    "            if f not in seen_set:\n",
    "                funcs.append(f)\n",
    "                seen_set.add(f)\n",
    "                funcs.sort(key = lambda x: x.generation)\n",
    "                \n",
    "        add_func(self.creator)\n",
    "        \n",
    "        while funcs:\n",
    "            f = funcs.pop() \n",
    "            gys = [output().grad for output in f.outputs]\n",
    "            gxs = f.backward(*gys)\n",
    "            if not isinstance (gxs, tuple): \n",
    "                gxs = (gxs,)\n",
    "                \n",
    "            for x, gx in zip(f.inputs, gxs):\n",
    "                if x.grad is None:\n",
    "                    x.grad = gx\n",
    "                else:\n",
    "                    x.grad = x.grad + gx\n",
    "                \n",
    "                if x.creator is not None:\n",
    "                    add_func(x.creator)\n",
    "                \n",
    "            if not retain_grad: \n",
    "                for y in f.outputs:\n",
    "                    y().grad = None \n",
    "                    \n",
    "    @property \n",
    "    def shape(self):\n",
    "        return self.data.shape\n",
    "    \n",
    "    @property \n",
    "    def ndim(self):\n",
    "        return self.data.ndim\n",
    "    \n",
    "    @property \n",
    "    def size(self):\n",
    "        return self.data.size\n",
    " \n",
    "    @property \n",
    "    def dtype(self):\n",
    "        return self.data.dtype\n",
    "    \n",
    "    def __len__(self): \n",
    "        return len(self.data)\n",
    "    \n",
    "    def __repr__(self):\n",
    "        if self.data is None:\n",
    "            return 'Variable(None)'\n",
    "        p = str(self.data).replace('\\n', '\\n' + ' ' * 9)\n",
    "        return 'variable(' + p + ')'\n",
    "    \n",
    "Variable.__mul__ = mul\n",
    "Variable.__add__ = add # 함수 자체를 할당할 수 있다"
   ]
  },
  {
   "cell_type": "code",
   "execution_count": 27,
   "id": "a1bbf2c3",
   "metadata": {},
   "outputs": [
    {
     "name": "stdout",
     "output_type": "stream",
     "text": [
      "variable(7.0)\n",
      "2.0\n",
      "3.0\n"
     ]
    }
   ],
   "source": [
    "a = Variable(np.array(3.0))\n",
    "b = Variable(np.array(2.0))\n",
    "c = Variable(np.array(1.0))\n",
    "\n",
    "# y = add(mul(a,b),c)\n",
    "y = a * b + c\n",
    "y.backward()\n",
    "\n",
    "print(y)\n",
    "print(a.grad)\n",
    "print(b.grad)"
   ]
  },
  {
   "cell_type": "markdown",
   "id": "83791d41",
   "metadata": {},
   "source": [
    "Variable 인스턴스와 ndarray 인스턴스, int나 float등 함께 사용할 수 있도록 구현하기 위해서 a가 Variable 인스턴스일 때 \n",
    "a * np.array(2.0)이라는 코드를 만나면 ndarray 인스턴스를 자동으로 Variable 인스턴스로 변환하게 구현한다.\n",
    "\n",
    "as_variable이라는 함수를 준비하여 인수로 주어진 객체를 Variable 인스턴스로 변환하게 한다."
   ]
  },
  {
   "cell_type": "code",
   "execution_count": 28,
   "id": "64189ab1",
   "metadata": {},
   "outputs": [],
   "source": [
    "def as_variable(obj):\n",
    "    if isinstance(obj, Variable):\n",
    "        return obj # obj가 Variable 인스턴스면 아무것도 손보지 않고 그대로 반환\n",
    "    return Variable(obj) # obj가 Variable 인스턴스가 아니라면 Variable 인스턴스로 변환하여 반환"
   ]
  },
  {
   "cell_type": "code",
   "execution_count": 29,
   "id": "02bf3754",
   "metadata": {},
   "outputs": [],
   "source": [
    "'''간단한 코드로 변경'''\n",
    "import numpy as np\n",
    "import weakref\n",
    "\n",
    "class Variable:\n",
    "    def __init__(self,data, name=None): \n",
    "                \n",
    "        self.data = data\n",
    "        self.name = name\n",
    "        self.grad = None\n",
    "        self.creator = None\n",
    "        self.generation = 0 \n",
    "        \n",
    "    def set_creator(self, func):\n",
    "        self.creator = func\n",
    "        self.generation = func.generation + 1 \n",
    "        \n",
    "    def backward(self, retain_grad = False):\n",
    "        if self.grad is None:\n",
    "            self.grad = np.ones_like(self.data) \n",
    "    \n",
    "        funcs = []\n",
    "        seen_set = set()\n",
    "        \n",
    "        def add_func(f):\n",
    "            if f not in seen_set:\n",
    "                funcs.append(f)\n",
    "                seen_set.add(f)\n",
    "                funcs.sort(key = lambda x: x.generation)\n",
    "                \n",
    "        add_func(self.creator)\n",
    "        \n",
    "        while funcs:\n",
    "            f = funcs.pop() \n",
    "            gys = [output().grad for output in f.outputs]\n",
    "            gxs = f.backward(*gys)\n",
    "            if not isinstance (gxs, tuple): \n",
    "                gxs = (gxs,)\n",
    "                \n",
    "            for x, gx in zip(f.inputs, gxs):\n",
    "                if x.grad is None:\n",
    "                    x.grad = gx\n",
    "                else:\n",
    "                    x.grad = x.grad + gx\n",
    "                \n",
    "                if x.creator is not None:\n",
    "                    add_func(x.creator)\n",
    "                \n",
    "            if not retain_grad: \n",
    "                for y in f.outputs:\n",
    "                    y().grad = None \n",
    "                    \n",
    "    @property \n",
    "    def shape(self):\n",
    "        return self.data.shape\n",
    "    \n",
    "    @property \n",
    "    def ndim(self):\n",
    "        return self.data.ndim\n",
    "    \n",
    "    @property \n",
    "    def size(self):\n",
    "        return self.data.size\n",
    " \n",
    "    @property \n",
    "    def dtype(self):\n",
    "        return self.data.dtype\n",
    "    \n",
    "    def __len__(self): \n",
    "        return len(self.data)\n",
    "    \n",
    "    def __repr__(self):\n",
    "        if self.data is None:\n",
    "            return 'Variable(None)'\n",
    "        p = str(self.data).replace('\\n', '\\n' + ' ' * 9)\n",
    "        return 'variable(' + p + ')'\n",
    "    \n",
    "# 오류로 인한 코드 추가 \n",
    "def variable_add(self, other):\n",
    "    other = as_variable(other)\n",
    "    return add(self, other)\n",
    "\n",
    "def variable_mul(self, other):\n",
    "    other = as_variable(other)\n",
    "    return mul(self, other)\n",
    "\n",
    "Variable.__add__ = variable_add\n",
    "Variable.__mul__ = variable_mul"
   ]
  },
  {
   "cell_type": "code",
   "execution_count": 30,
   "id": "a94b8afa",
   "metadata": {},
   "outputs": [],
   "source": [
    "'''Function에서 __call 메서드가 as_variable 함수를 이용하도록 코드 추가'''\n",
    "\n",
    "class Function:\n",
    "    def __call__(self, *inputs): \n",
    "        inputs = [as_variable(x) for x in inputs] # 코드 추가       \n",
    "        xs = [x.data for x in inputs] \n",
    "        ys = self.forward(*xs) \n",
    "        if not isinstance(ys, tuple): \n",
    "            ys = (ys,)\n",
    "        outputs = [Variable(as_array(y)) for y in ys]\n",
    "        \n",
    "        if Config.enable_backprop: \n",
    "            self.generation = max([x.generation for x in inputs])\n",
    "            for output in outputs:\n",
    "                output.set_creator(self)   \n",
    "            self.inputs = inputs\n",
    "            self.outputs = [weakref.ref(output) for output in outputs]\n",
    "        return outputs if len(outputs) > 1 else outputs[0]"
   ]
  },
  {
   "cell_type": "code",
   "execution_count": 31,
   "id": "b61af95f",
   "metadata": {},
   "outputs": [
    {
     "name": "stdout",
     "output_type": "stream",
     "text": [
      "variable(5.0)\n"
     ]
    }
   ],
   "source": [
    "x = Variable(np.array(2.0))\n",
    "y = x + np.array(3.0)\n",
    "print(y)"
   ]
  },
  {
   "cell_type": "markdown",
   "id": "21b3152d",
   "metadata": {},
   "source": [
    "### 오류\n",
    "코드를 실행하니 AttributeError: 'numpy.ndarray' object has no attribute 'generation'이라는 오류가 발생해서 Variable 클래스에 \n",
    "\n",
    "def variable_add(self, other):\n",
    "    other = as_variable(other)\n",
    "    return add(self, other)\n",
    "\n",
    "def variable_mul(self, other):\n",
    "    other = as_variable(other)\n",
    "    return mul(self, other)\n",
    "    \n",
    "코드를 추가해 주었다."
   ]
  },
  {
   "cell_type": "code",
   "execution_count": 32,
   "id": "1ba5f7dc",
   "metadata": {},
   "outputs": [],
   "source": [
    "def add(x0, x1):\n",
    "    x1 = as_array(x1)\n",
    "    return Add()(x0, x1)"
   ]
  },
  {
   "cell_type": "code",
   "execution_count": 33,
   "id": "e33001cd",
   "metadata": {},
   "outputs": [
    {
     "name": "stdout",
     "output_type": "stream",
     "text": [
      "variable(5.0)\n"
     ]
    }
   ],
   "source": [
    "x = Variable(np.array(2.0))\n",
    "y = x + 3.0\n",
    "print(y)"
   ]
  },
  {
   "cell_type": "markdown",
   "id": "b0ca1439",
   "metadata": {},
   "source": [
    "### 현재 코드의 문제점\n",
    "1. **첫 번째 인수가 float나 int인 경우** : 2.0 * x를 실행했을 때 연산자 왼쪽에 있는 2.0의 \\_\\_mul__메서드를 호출하려 시도하지만, 2.0의 \\_\\_mul__메서드는 구현되어 있지 않다. 따라서 오른쪽에 있는 x의 특수 메서드인 \\_\\_rmul__메서드를 호출하려 시도하지만, Variable 클래스에는 \\_\\_rmul__메서드가 구현되어 있지 않다. 따라서 **\\_\\_rmul__메서드를 구현하면 해결**된다.\n",
    "2. **좌항이 ndarray 인스턴스인 경우** : 좌항인 ndarray 인스턴스의 \\_\\_add__메서드가 호출되지만 우항인 인스턴스의 \\_\\_radd__ 메서드가 실행되길 바라는 경우, **연산자 우선순위**를 지정해 주어 우선적으로 호출될 수 있게 한다.  "
   ]
  },
  {
   "cell_type": "code",
   "execution_count": 34,
   "id": "66fb4efc",
   "metadata": {},
   "outputs": [],
   "source": [
    "class Variable:\n",
    "    def __init__(self,data, name=None): \n",
    "                \n",
    "        self.data = data\n",
    "        self.name = name\n",
    "        self.grad = None\n",
    "        self.creator = None\n",
    "        self.generation = 0 \n",
    "        \n",
    "    def set_creator(self, func):\n",
    "        self.creator = func\n",
    "        self.generation = func.generation + 1 \n",
    "        \n",
    "    def backward(self, retain_grad = False):\n",
    "        if self.grad is None:\n",
    "            self.grad = np.ones_like(self.data) \n",
    "    \n",
    "        funcs = []\n",
    "        seen_set = set()\n",
    "        \n",
    "        def add_func(f):\n",
    "            if f not in seen_set:\n",
    "                funcs.append(f)\n",
    "                seen_set.add(f)\n",
    "                funcs.sort(key = lambda x: x.generation)\n",
    "                \n",
    "        add_func(self.creator)\n",
    "        \n",
    "        while funcs:\n",
    "            f = funcs.pop() \n",
    "            gys = [output().grad for output in f.outputs]\n",
    "            gxs = f.backward(*gys)\n",
    "            if not isinstance (gxs, tuple): \n",
    "                gxs = (gxs,)\n",
    "                \n",
    "            for x, gx in zip(f.inputs, gxs):\n",
    "                if x.grad is None:\n",
    "                    x.grad = gx\n",
    "                else:\n",
    "                    x.grad = x.grad + gx\n",
    "                \n",
    "                if x.creator is not None:\n",
    "                    add_func(x.creator)\n",
    "                \n",
    "            if not retain_grad: \n",
    "                for y in f.outputs:\n",
    "                    y().grad = None \n",
    "                    \n",
    "    @property \n",
    "    def shape(self):\n",
    "        return self.data.shape\n",
    "    \n",
    "    @property \n",
    "    def ndim(self):\n",
    "        return self.data.ndim\n",
    "    \n",
    "    @property \n",
    "    def size(self):\n",
    "        return self.data.size\n",
    " \n",
    "    @property \n",
    "    def dtype(self):\n",
    "        return self.data.dtype\n",
    "    \n",
    "    def __len__(self): \n",
    "        return len(self.data)\n",
    "    \n",
    "    def __repr__(self):\n",
    "        if self.data is None:\n",
    "            return 'Variable(None)'\n",
    "        p = str(self.data).replace('\\n', '\\n' + ' ' * 9)\n",
    "        return 'variable(' + p + ')'\n",
    "    \n",
    "def variable_add(self, other):\n",
    "    other = as_variable(other)\n",
    "    return add(self, other)\n",
    "\n",
    "def variable_mul(self, other):\n",
    "    other = as_variable(other)\n",
    "    return mul(self, other)\n",
    "\n",
    "# 곱셈과 덧셈에서는 좌항과 우항을 바꾸어도 결과가 동일하다.\n",
    "Variable.__add__ = variable_add\n",
    "Variable.__radd__ = variable_add\n",
    "Variable.__mul__ = variable_mul \n",
    "Variable.__rmul__ = variable_mul"
   ]
  },
  {
   "cell_type": "code",
   "execution_count": 35,
   "id": "59047eda",
   "metadata": {},
   "outputs": [
    {
     "name": "stdout",
     "output_type": "stream",
     "text": [
      "variable(7.0)\n"
     ]
    }
   ],
   "source": [
    "x = Variable(np.array(2.0))\n",
    "y = 3.0 * x + 1.0\n",
    "print(y)"
   ]
  },
  {
   "cell_type": "code",
   "execution_count": 36,
   "id": "f7fd8987",
   "metadata": {},
   "outputs": [],
   "source": [
    "import numpy as np\n",
    "import weakref\n",
    "\n",
    "class Variable:\n",
    "    __array_priority__ = 200 #  NumPy의 배열 연산에서 우선 순위를 결정하는 속성\n",
    "    def __init__(self,data, name=None): \n",
    "                \n",
    "        self.data = data\n",
    "        self.name = name\n",
    "        self.grad = None\n",
    "        self.creator = None\n",
    "        self.generation = 0 \n",
    "        \n",
    "    def set_creator(self, func):\n",
    "        self.creator = func\n",
    "        self.generation = func.generation + 1 \n",
    "        \n",
    "    def backward(self, retain_grad = False):\n",
    "        if self.grad is None:\n",
    "            self.grad = np.ones_like(self.data) \n",
    "    \n",
    "        funcs = []\n",
    "        seen_set = set()\n",
    "        \n",
    "        def add_func(f):\n",
    "            if f not in seen_set:\n",
    "                funcs.append(f)\n",
    "                seen_set.add(f)\n",
    "                funcs.sort(key = lambda x: x.generation)\n",
    "                \n",
    "        add_func(self.creator)\n",
    "        \n",
    "        while funcs:\n",
    "            f = funcs.pop() \n",
    "            gys = [output().grad for output in f.outputs]\n",
    "            gxs = f.backward(*gys)\n",
    "            if not isinstance (gxs, tuple): \n",
    "                gxs = (gxs,)\n",
    "                \n",
    "            for x, gx in zip(f.inputs, gxs):\n",
    "                if x.grad is None:\n",
    "                    x.grad = gx\n",
    "                else:\n",
    "                    x.grad = x.grad + gx\n",
    "                \n",
    "                if x.creator is not None:\n",
    "                    add_func(x.creator)\n",
    "                \n",
    "            if not retain_grad: \n",
    "                for y in f.outputs:\n",
    "                    y().grad = None \n",
    "                    \n",
    "    @property \n",
    "    def shape(self):\n",
    "        return self.data.shape\n",
    "    \n",
    "    @property \n",
    "    def ndim(self):\n",
    "        return self.data.ndim\n",
    "    \n",
    "    @property \n",
    "    def size(self):\n",
    "        return self.data.size\n",
    " \n",
    "    @property \n",
    "    def dtype(self):\n",
    "        return self.data.dtype\n",
    "    \n",
    "    def __len__(self): \n",
    "        return len(self.data)\n",
    "    \n",
    "    def __repr__(self):\n",
    "        if self.data is None:\n",
    "            return 'Variable(None)'\n",
    "        p = str(self.data).replace('\\n', '\\n' + ' ' * 9)\n",
    "        return 'variable(' + p + ')'\n",
    "    \n",
    "def variable_add(self, other):\n",
    "    other = as_variable(other)\n",
    "    return add(self, other)\n",
    "\n",
    "def variable_mul(self, other):\n",
    "    other = as_variable(other)\n",
    "    return mul(self, other)\n",
    "\n",
    "Variable.__add__ = variable_add\n",
    "Variable.__radd__ = variable_add\n",
    "Variable.__mul__ = variable_mul \n",
    "Variable.__rmul__ = variable_mul"
   ]
  },
  {
   "cell_type": "markdown",
   "id": "781063d9",
   "metadata": {},
   "source": [
    "#### 새로운 연산자를 추가하는 순서\n",
    "1. Function 클래스를 상속하여 원하는 함수 클래스를 구현한다.\n",
    "2. 파이썬 함수로 사용할 수 있도록 한다.\n",
    "3. Variable 클래스의 연산자를 오버로드한다."
   ]
  },
  {
   "cell_type": "markdown",
   "id": "c30412a3",
   "metadata": {},
   "source": [
    "**\\_\\_neg__(self)** 는 양수를 음수로, 음수를 양수로 바꿔주는 부호 변환 연산자로 항이 하나뿐인 단항 연산자이다.\n",
    "\n",
    "**\\_\\_sub__(self, other)** 는 뺄셈 연산자로 이항 연산자이다.\n",
    "\n",
    "**\\_\\_truediv__(self, other)** 는 나눗셈 연산자로 이항 연산자이다.\n",
    "\n",
    "**\\_\\_pow__(self, other)** 는 거듭제곱 연산자로 이항 연산자이다. 코드에선 좌항이 Variable 인스턴스이고 우항이 상수인 경우만을 고려하였다.\n"
   ]
  },
  {
   "cell_type": "code",
   "execution_count": 37,
   "id": "5adf0a32",
   "metadata": {},
   "outputs": [],
   "source": [
    "'''연산자 추가'''\n",
    "\n",
    "class Neg(Function):\n",
    "    def forward(self, x):\n",
    "        return -x\n",
    "    \n",
    "    def backward(self, gy):\n",
    "        return -gy\n",
    "    \n",
    "def neg(x):\n",
    "    return Neg()(x) # Neg 인스턴스를 생성하고, 이 인스턴스에 대해 x를 인자로 하여 호출\n",
    "\n",
    "Variable.__neg__ = neg"
   ]
  },
  {
   "cell_type": "code",
   "execution_count": 38,
   "id": "53034222",
   "metadata": {},
   "outputs": [
    {
     "name": "stdout",
     "output_type": "stream",
     "text": [
      "variable(-2.0)\n"
     ]
    }
   ],
   "source": [
    "x = Variable(np.array(2.0))\n",
    "y = -x\n",
    "print(y)"
   ]
  },
  {
   "cell_type": "code",
   "execution_count": 39,
   "id": "81ba5f71",
   "metadata": {},
   "outputs": [],
   "source": [
    "'''연산자 추가'''\n",
    "\n",
    "class Sub(Function):\n",
    "    def forward(self, x0, x1):\n",
    "        y = x0 - x1\n",
    "        return y\n",
    "    \n",
    "    def backward(self, gy):\n",
    "        return gy, -gy\n",
    "    \n",
    "def sub(x0,x1):\n",
    "    x1 = as_array(x1)\n",
    "    return Sub()(x0,x1)\n",
    "\n",
    "Variable.__sub__ = sub"
   ]
  },
  {
   "cell_type": "markdown",
   "id": "5fba2d40",
   "metadata": {},
   "source": [
    "뺄셈은 우항과 좌항의 순서를 바꾸면 값이 달라지기 때문에 좌우를 구별해 주어야 한다. 우항을 대상으로 했을 때 적용할 함수인 rsub(x0,x1)을 별도로 준비해야 한다."
   ]
  },
  {
   "cell_type": "code",
   "execution_count": 40,
   "id": "11f03740",
   "metadata": {},
   "outputs": [],
   "source": [
    "'''연산자 추가'''\n",
    "\n",
    "class Sub(Function):\n",
    "    def forward(self, x0, x1):\n",
    "        y = x0 - x1\n",
    "        return y\n",
    "    \n",
    "    def backward(self, gy):\n",
    "        return gy, -gy\n",
    "    \n",
    "def sub(x0,x1):\n",
    "    x1 = as_array(x1)\n",
    "    return Sub()(x0,x1)\n",
    "\n",
    "def rsub(x0,x1):\n",
    "    x1 = as_array(x1)\n",
    "    return Sub()(x1,x0) # x0과 x1의 순서를 바꿈\n",
    "\n",
    "Variable.__sub__ = sub\n",
    "Variable.__rsub__ = rsub"
   ]
  },
  {
   "cell_type": "code",
   "execution_count": 41,
   "id": "a3ad403c",
   "metadata": {},
   "outputs": [
    {
     "name": "stdout",
     "output_type": "stream",
     "text": [
      "variable(0.0)\n",
      "variable(1.0)\n"
     ]
    }
   ],
   "source": [
    "x = Variable(np.array(2.0))\n",
    "y1 = 2.0 - x\n",
    "y2 = x - 1.0\n",
    "print(y1)\n",
    "print(y2)"
   ]
  },
  {
   "cell_type": "code",
   "execution_count": 42,
   "id": "75b90c82",
   "metadata": {},
   "outputs": [],
   "source": [
    "'''연산자 추가'''\n",
    "\n",
    "class Div(Function):\n",
    "    def forward(self, x0, x1):\n",
    "        y = x0 / x1\n",
    "        return y\n",
    "\n",
    "    def backward(self, gy):\n",
    "        x0, x1 = self.inputs[0].data, self.inputs[1].data\n",
    "        gx0 = gy / x1\n",
    "        gx1 = gy * (-x0 / x1 ** 2)\n",
    "        return gx0, gx1\n",
    "\n",
    "\n",
    "def div(x0, x1):\n",
    "    x1 = as_array(x1)\n",
    "    return Div()(x0, x1)\n",
    "\n",
    "\n",
    "def rdiv(x0, x1):\n",
    "    x1 = as_array(x1)\n",
    "    return div(x1, x0)\n",
    "\n",
    "Variable.__truediv__ = div\n",
    "Variable.__rtruediv__ = rdiv"
   ]
  },
  {
   "cell_type": "code",
   "execution_count": 43,
   "id": "b6b3be2f",
   "metadata": {},
   "outputs": [],
   "source": [
    "'''연산자 추가'''\n",
    "\n",
    "class Pow(Function):\n",
    "    def __init__(self, c):\n",
    "        self.c = c\n",
    "\n",
    "    def forward(self, x):\n",
    "        y = x ** self.c\n",
    "        return y\n",
    "\n",
    "    def backward(self, gy):\n",
    "        x = self.inputs[0].data\n",
    "        c = self.c\n",
    "\n",
    "        gx = c * x ** (c - 1) * gy\n",
    "        return gx\n",
    "\n",
    "\n",
    "def pow(x, c):\n",
    "    return Pow(c)(x)\n",
    "\n",
    "Variable.__pow__ = pow"
   ]
  },
  {
   "cell_type": "markdown",
   "id": "8b32e902",
   "metadata": {},
   "source": [
    "거듭제곱은 Pow 클래스를 초기화 할 때 지수 c를 제공할 수 있다. 순전파 메서드인 forward는(x)는 밑에 해당하는 x만 받게 한다."
   ]
  },
  {
   "cell_type": "code",
   "execution_count": 44,
   "id": "414bee25",
   "metadata": {},
   "outputs": [
    {
     "name": "stdout",
     "output_type": "stream",
     "text": [
      "variable(8.0)\n"
     ]
    }
   ],
   "source": [
    "y = x ** 3\n",
    "y.backward()\n",
    "print(y)"
   ]
  },
  {
   "cell_type": "markdown",
   "id": "7e04ecb6",
   "metadata": {},
   "source": [
    "### Dezero를 패키지로 정리\n",
    "- 모듈 : 파이썬 파일로 다른 프로그램에서 import하여 사용하는 것을 가정하고 만들어진 것이다.\n",
    "- 패키지 : 여러 모듈을 묶은 것으로 패키지를 만드려면 먼저 디렉터리를 만들고 그 안에 모듈(파이썬 파일)을 추가해야 한다.\n",
    "- 라이브러리 : 여러 패키지를 묶은 것으로 하나 이상의 디렉터리로 구성된다. 때로는 패키지를 라이브러리라고 부른다."
   ]
  },
  {
   "cell_type": "markdown",
   "id": "b15977a4",
   "metadata": {},
   "source": [
    "코드를 dezero/core_simple.py라는 코어 파일로 옮기고 외부의 파이썬 파일에서 dezero를 임포트한다."
   ]
  },
  {
   "cell_type": "code",
   "execution_count": 45,
   "id": "382fa39c",
   "metadata": {},
   "outputs": [
    {
     "name": "stdout",
     "output_type": "stream",
     "text": [
      "variable(1.0)\n"
     ]
    }
   ],
   "source": [
    "import numpy as np\n",
    "from dezero.core_simple import Variable\n",
    "\n",
    "x = Variable(np.array(1.0))\n",
    "print(x)"
   ]
  },
  {
   "cell_type": "code",
   "execution_count": 46,
   "id": "ea263e05",
   "metadata": {},
   "outputs": [
    {
     "name": "stdout",
     "output_type": "stream",
     "text": [
      "variable(16.0)\n",
      "8.0\n"
     ]
    }
   ],
   "source": [
    "import numpy as np\n",
    "from dezero.core_simple import Variable\n",
    "\n",
    "x = Variable(np.array(1.0))\n",
    "y = (x + 3) ** 2\n",
    "y.backward()\n",
    "\n",
    "print(y)\n",
    "print(x.grad)"
   ]
  },
  {
   "cell_type": "code",
   "execution_count": 48,
   "id": "b89afb57",
   "metadata": {},
   "outputs": [
    {
     "name": "stdout",
     "output_type": "stream",
     "text": [
      "variable(16.0)\n",
      "8.0\n"
     ]
    }
   ],
   "source": [
    "'''\n",
    "if '__file__' in globals():\n",
    "    import os, sys\n",
    "    sys.path.append(os.path.join(os.path.dirname(__file__), '..'))\n",
    "\n",
    "import numpy as np\n",
    "from dezero import Variable\n",
    "\n",
    "\n",
    "x = Variable(np.array(1.0))\n",
    "y = (x + 3) ** 2\n",
    "y.backward()\n",
    "\n",
    "print(y)\n",
    "print(x.grad)'''\n",
    "\n",
    "import os\n",
    "import sys\n",
    "\n",
    "# 현재 작업 디렉토리를 sys.path에 추가\n",
    "current_dir = os.getcwd()\n",
    "sys.path.append(current_dir)\n",
    "\n",
    "import numpy as np\n",
    "from dezero import Variable\n",
    "\n",
    "x = Variable(np.array(1.0))\n",
    "y = (x + 3) ** 2\n",
    "y.backward()\n",
    "\n",
    "print(y)\n",
    "print(x.grad)"
   ]
  },
  {
   "cell_type": "markdown",
   "id": "058750e3",
   "metadata": {},
   "source": [
    "주피터 노트북 환경에서는 \\_\\_file__ 전역 변수가 정의되어 있지 않기 때문에, 현재 작업 디렉토리를 기준으로 모듈 경로를 추가했다. os.getcwd()를 사용하여 현재 작업 디렉토리를 얻고, 이를 기반으로 모듈 경로를 추가하는 방식을 사용했다."
   ]
  }
 ],
 "metadata": {
  "kernelspec": {
   "display_name": "Python 3 (ipykernel)",
   "language": "python",
   "name": "python3"
  },
  "language_info": {
   "codemirror_mode": {
    "name": "ipython",
    "version": 3
   },
   "file_extension": ".py",
   "mimetype": "text/x-python",
   "name": "python",
   "nbconvert_exporter": "python",
   "pygments_lexer": "ipython3",
   "version": "3.9.13"
  }
 },
 "nbformat": 4,
 "nbformat_minor": 5
}
