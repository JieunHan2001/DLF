{
 "cells": [
  {
   "cell_type": "code",
   "execution_count": null,
   "id": "acdeb73f",
   "metadata": {},
   "outputs": [],
   "source": [
    "'''정리노트 #1'''"
   ]
  },
  {
   "cell_type": "code",
   "execution_count": 3,
   "id": "cfd36282",
   "metadata": {},
   "outputs": [],
   "source": [
    "import numpy as np\n",
    "\n",
    "'''수동 역전파'''\n",
    "\n",
    "class Variable:\n",
    "    def __init__(self,data):\n",
    "        self.data = data\n",
    "        self.grad= None"
   ]
  },
  {
   "cell_type": "code",
   "execution_count": 4,
   "id": "162477e8",
   "metadata": {},
   "outputs": [],
   "source": [
    "class Function:\n",
    "    def __call__(self, input):\n",
    "        x = input.data\n",
    "        y = self.forward(x)\n",
    "        output = Variable(y)\n",
    "        self.input = input # 입력 변수를 기억(보관)함 / 역전파 시 필요함\n",
    "        return output\n",
    "\n",
    "    def forward(self, x):\n",
    "        raise NotImplementedError() # 순전파\n",
    "    \n",
    "    def backward(self, gy):\n",
    "        raise NotImplementedError() # 역전파 "
   ]
  },
  {
   "cell_type": "code",
   "execution_count": 5,
   "id": "c8af797f",
   "metadata": {},
   "outputs": [],
   "source": [
    "class Square(Function):\n",
    "    def forward(self,x):\n",
    "        y = x ** 2\n",
    "        return y\n",
    "    \n",
    "    def backward(self, gy):\n",
    "        x = self.input.data\n",
    "        gx = 2 * x * gy\n",
    "        return gx # 인수로 전달된 미분에 'y = x ** 2'의 미분을 곱한 값이 backward의 결과"
   ]
  },
  {
   "cell_type": "code",
   "execution_count": 6,
   "id": "bb253f44",
   "metadata": {},
   "outputs": [],
   "source": [
    "class Exp(Function): \n",
    "    def forward(self, x):\n",
    "        y = np.exp(x)\n",
    "        return y\n",
    "    \n",
    "    def backward(self, gy):\n",
    "        x = self.input.data\n",
    "        gx = np.exp(x) * gy\n",
    "        return gx"
   ]
  },
  {
   "cell_type": "code",
   "execution_count": 7,
   "id": "2259a25f",
   "metadata": {},
   "outputs": [],
   "source": [
    "#순전파 계산 코드\n",
    "\n",
    "A = Square()\n",
    "B = Exp()\n",
    "C = Square()\n",
    "\n",
    "x = Variable(np.array(0.5))\n",
    "a = A(x)\n",
    "b = B(a)\n",
    "y = C(b)"
   ]
  },
  {
   "cell_type": "code",
   "execution_count": 8,
   "id": "581fd7f1",
   "metadata": {},
   "outputs": [
    {
     "name": "stdout",
     "output_type": "stream",
     "text": [
      "3.297442541400256\n"
     ]
    }
   ],
   "source": [
    "#역전파로 y 미분하기 (C -> B -> A 순서)\n",
    "\n",
    "y.grad = np.array(1.0) # 출력 y의 미분값을 np.array(1.0)로 설정\n",
    "b.grad = C.backward(y.grad)\n",
    "a.grad = B.backward(b.grad)\n",
    "x.grad = A.backward(a.grad)\n",
    "print(x.grad)"
   ]
  },
  {
   "cell_type": "code",
   "execution_count": 9,
   "id": "41ae6e3f",
   "metadata": {},
   "outputs": [],
   "source": [
    "'''역전파 자동화 : 일반적인 계산(순전파)을 해 주면 자동으로 역전파가 이루어지는 구조'''\n",
    "\n",
    "class Variable:\n",
    "    def __init__(self,data):\n",
    "        self.data = data\n",
    "        self.grad = None\n",
    "        self.creator = None\n",
    "        \n",
    "    def set_creator(self, func): #인스턴스 변수 creator추가\n",
    "        self.creator = func"
   ]
  },
  {
   "cell_type": "code",
   "execution_count": 10,
   "id": "1ed40273",
   "metadata": {},
   "outputs": [],
   "source": [
    "class Function:\n",
    "    def __call__(self, input):\n",
    "        x = input.data\n",
    "        y = self.forward(x)\n",
    "        output = Variable(y)\n",
    "        output.set_creator(self) # 출력 변수에 창조자 설정\n",
    "        self.input = input\n",
    "        self.output = output # 출력도 저장하기\n",
    "        return output"
   ]
  },
  {
   "cell_type": "code",
   "execution_count": 11,
   "id": "e1add281",
   "metadata": {},
   "outputs": [],
   "source": [
    "class Square(Function):\n",
    "    def forward(self,x):\n",
    "        y = x ** 2\n",
    "        return y\n",
    "    \n",
    "    def backward(self, gy):\n",
    "        x = self.input.data\n",
    "        gx = 2 * x * gy\n",
    "        return gx # 인수로 전달된 미분에 'y = x ** 2'의 미분을 곱한 값이 backward의 결과"
   ]
  },
  {
   "cell_type": "code",
   "execution_count": 12,
   "id": "6ff5dc6d",
   "metadata": {},
   "outputs": [],
   "source": [
    "class Exp(Function): \n",
    "    def forward(self, x):\n",
    "        y = np.exp(x)\n",
    "        return y\n",
    "    \n",
    "    def backward(self, gy):\n",
    "        x = self.input.data\n",
    "        gx = np.exp(x) * gy\n",
    "        return gx"
   ]
  },
  {
   "cell_type": "code",
   "execution_count": 13,
   "id": "fa7fe371",
   "metadata": {},
   "outputs": [],
   "source": [
    "A = Square()\n",
    "B = Exp()\n",
    "C = Square()\n",
    "\n",
    "x = Variable(np.array(0.5))\n",
    "a = A(x)\n",
    "b = B(a)\n",
    "y = C(b)\n",
    "\n",
    "# 계산 그래프의 노드들을 거꾸로 거슬러 올라감\n",
    "assert y.creator == C\n",
    "assert y.creator.input == b\n",
    "assert y.creator.input.creator == B\n",
    "assert y.creator.input.creator.input == a\n",
    "assert y.creator.input.creator.input.creator == A\n",
    "assert y.creator.input.creator.input.creator.input == x\n",
    "\n",
    "#assert 함수는 그 결과가 True 가 아니면 예외 발생 / 문제 없이 실행되므로 조건을 모두 충족"
   ]
  },
  {
   "cell_type": "code",
   "execution_count": 14,
   "id": "535e1d9d",
   "metadata": {},
   "outputs": [
    {
     "name": "stdout",
     "output_type": "stream",
     "text": [
      "3.297442541400256\n"
     ]
    }
   ],
   "source": [
    "'''변수 y에서 b까지의 역전파'''\n",
    "y.grad = np.array(1.0)\n",
    "C = y.creator # 함수를 가져옴\n",
    "b = C.input # 함수의 입력을 가져옴\n",
    "b.grad = C.backward(y.grad) # 함수의 backward 메서드를 호출함.\n",
    "\n",
    "'''변수 b에서 a까지의 역전파'''\n",
    "B = b.creator \n",
    "a = B.input\n",
    "a.grad = B.backward(b.grad)\n",
    "\n",
    "'''변수 a에서 x로의 역전파'''\n",
    "A = a.creator\n",
    "x = A.input\n",
    "x.grad = A.backward(a.grad)\n",
    "print(x.grad)"
   ]
  },
  {
   "cell_type": "code",
   "execution_count": 15,
   "id": "d7ac5a40",
   "metadata": {},
   "outputs": [],
   "source": [
    "'''반복 작업을 자동화하기 위해 variable 클래스에 backward라는 새 메서드 추가'''\n",
    "\n",
    "class Variable:\n",
    "    def __init__(self,data):\n",
    "        self.data = data\n",
    "        self.grad = None\n",
    "        self.creator = None\n",
    "        \n",
    "    def set_creator(self, func):\n",
    "        self.creator = func\n",
    "        \n",
    "    def backward(self):\n",
    "        f = self.creator # 함수를 가져옴\n",
    "        if f is not None:\n",
    "            x = f.input # 함수의 입력을 가져옴\n",
    "            x.grad = f.backward(self.grad) # 함수의 backward 메서드를 호출\n",
    "            x.backward() # 하나 앞 변수의 backward 메서드를 호출한다(재귀)"
   ]
  },
  {
   "cell_type": "code",
   "execution_count": 16,
   "id": "f42abaea",
   "metadata": {},
   "outputs": [
    {
     "name": "stdout",
     "output_type": "stream",
     "text": [
      "3.297442541400256\n"
     ]
    }
   ],
   "source": [
    "# 자동 실행\n",
    "A = Square()\n",
    "B = Exp()\n",
    "C = Square()\n",
    "\n",
    "x = Variable(np.array(0.5))\n",
    "a = A(x)\n",
    "b = B(a)\n",
    "y = C(b)\n",
    "\n",
    "#역전파\n",
    "y.grad = np.array(1.0)\n",
    "y.backward()\n",
    "print(x.grad)"
   ]
  },
  {
   "cell_type": "code",
   "execution_count": 17,
   "id": "2e965d00",
   "metadata": {},
   "outputs": [],
   "source": [
    "'''반복문을 이용해 구현하기(재귀 -> 반복문)'''\n",
    "'''처리해야 할 함수들을 funcs라는 리스트에 차례대로 집어넣는다.'''\n",
    "\n",
    "class Variable:\n",
    "    def __init__(self,data):\n",
    "        self.data = data\n",
    "        self.grad = None\n",
    "        self.creator = None\n",
    "        \n",
    "    def set_creator(self, func):\n",
    "        self.creator = func\n",
    "        \n",
    "    def backward(self):\n",
    "        funcs = [self.creator] \n",
    "        while funcs:\n",
    "            f = funcs.pop() # 함수를 가져옴\n",
    "            x, y = f.input, f.output # 함수의 입력과 출력을 저장\n",
    "            x.grad = f.backward(y.grad) # backward 메서드를 호출\n",
    "            \n",
    "            if x.creator is not None:\n",
    "                funcs.append(x.creator) # 하나 앞의 함수를 리스트에 추가"
   ]
  },
  {
   "cell_type": "code",
   "execution_count": 18,
   "id": "ef85ea99",
   "metadata": {},
   "outputs": [
    {
     "name": "stdout",
     "output_type": "stream",
     "text": [
      "3.297442541400256\n"
     ]
    }
   ],
   "source": [
    "A = Square()\n",
    "B = Exp()\n",
    "C = Square()\n",
    "\n",
    "x = Variable(np.array(0.5))\n",
    "a = A(x)\n",
    "b = B(a)\n",
    "y = C(b)\n",
    "\n",
    "#역전파\n",
    "y.grad = np.array(1.0)\n",
    "y.backward()\n",
    "print(x.grad)"
   ]
  },
  {
   "cell_type": "code",
   "execution_count": null,
   "id": "a245d6c1",
   "metadata": {},
   "outputs": [],
   "source": [
    "# 재귀는 함수를 재귀적으로 호출 할 때마다 중간 결과를 메모리에 유지하면서 처리, 따라서 일반적으로 반복문이 효율이 더 좋다."
   ]
  },
  {
   "cell_type": "code",
   "execution_count": 19,
   "id": "20e7a9ce",
   "metadata": {},
   "outputs": [],
   "source": [
    "'''파이썬 함수로 이용하기'''\n",
    "def square(x):\n",
    "    f = Square()\n",
    "    return f(x)\n",
    "\n",
    "def exp(x):\n",
    "    f = Exp()\n",
    "    return f(x)"
   ]
  },
  {
   "cell_type": "code",
   "execution_count": 20,
   "id": "b61c8872",
   "metadata": {},
   "outputs": [
    {
     "name": "stdout",
     "output_type": "stream",
     "text": [
      "3.297442541400256\n"
     ]
    }
   ],
   "source": [
    "x = Variable(np.array(0.5))\n",
    "y = square(exp(square(x))) #연속하여 적용!\n",
    "y.grad = np.array(1.0)\n",
    "y.backward()\n",
    "print(x.grad)"
   ]
  },
  {
   "cell_type": "code",
   "execution_count": 22,
   "id": "1e321c3d",
   "metadata": {},
   "outputs": [
    {
     "name": "stdout",
     "output_type": "stream",
     "text": [
      "3.297442541400256\n"
     ]
    }
   ],
   "source": [
    "'''backward 메서드 간소화하기'''\n",
    "class Variable:\n",
    "    def __init__(self,data):\n",
    "        self.data = data\n",
    "        self.grad = None\n",
    "        self.creator = None\n",
    "        \n",
    "    def set_creator(self, func):\n",
    "        self.creator = func\n",
    "        \n",
    "    def backward(self):\n",
    "        if self.grad is None:\n",
    "            self.grad = np.ones_like(self.data) #np.ones_like(self.data)는 self.data와 형상과 타입이 같은 ndarray인스턴스 생성.\n",
    "                                                #모든 요소를 1로 채워서 돌려줌\n",
    "            \n",
    "        funcs = [self.creator] \n",
    "        while funcs:\n",
    "            f = funcs.pop()\n",
    "            x, y = f.input, f.output \n",
    "            x.grad = f.backward(y.grad)\n",
    "            \n",
    "            if x.creator is not None:\n",
    "                funcs.append(x.creator)\n",
    "                \n",
    "x = Variable(np.array(0.5))\n",
    "y = square(exp(square(x))) \n",
    "y.backward()\n",
    "print(x.grad)"
   ]
  },
  {
   "cell_type": "code",
   "execution_count": 2,
   "id": "9995a2c5",
   "metadata": {},
   "outputs": [],
   "source": [
    "'''테스트 하기'''\n",
    "import unittest\n",
    "\n",
    "class SquareTest(unittest.TestCase):\n",
    "    def test_forward(self):\n",
    "        x = Variable(np.array(2.0))\n",
    "        y = square(x)\n",
    "        expect = np.array(4.0)\n",
    "        self.assertEqual(y.data, expected) # 주어진 두 객체가 동일한지 여부를 판정"
   ]
  }
 ],
 "metadata": {
  "kernelspec": {
   "display_name": "Python 3 (ipykernel)",
   "language": "python",
   "name": "python3"
  },
  "language_info": {
   "codemirror_mode": {
    "name": "ipython",
    "version": 3
   },
   "file_extension": ".py",
   "mimetype": "text/x-python",
   "name": "python",
   "nbconvert_exporter": "python",
   "pygments_lexer": "ipython3",
   "version": "3.9.13"
  }
 },
 "nbformat": 4,
 "nbformat_minor": 5
}
